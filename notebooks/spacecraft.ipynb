{
 "cells": [
  {
   "cell_type": "code",
   "execution_count": 1,
   "metadata": {
    "collapsed": true
   },
   "outputs": [],
   "source": [
    "import numpy as np\n",
    "import gpkit\n",
    "from gpkit import Model, Variable\n",
    "import gpkit.interactive\n",
    "from gpkit.nomials.nomial_math import SingleSignomialEquality,SignomialInequality\n",
    "from gpkit import units\n",
    "from gpkit.constraints.tight import Tight \n",
    "from gpkit.constraints.bounded import Bounded\n",
    "from math import *\n",
    "gpkit.SIGNOMIALS_ENABLED = True"
   ]
  },
  {
   "cell_type": "markdown",
   "metadata": {},
   "source": [
    "Physical constants:"
   ]
  },
  {
   "cell_type": "code",
   "execution_count": 2,
   "metadata": {
    "collapsed": true
   },
   "outputs": [],
   "source": [
    "sigma = Variable(\"\\\\sigma\", 5.67e-8, \"W / m^2 / K^4\", \"Stefan-Botlzman constant\")\n",
    "k = Variable(\"k\", 1.380658e-23, \"J/K\", \"Boltzman constant R/Na\")\n",
    "mu_earth = Variable(\"\\\\mu_e\", 3.986e14, \"m^3 / s^2\", \"GM Earth\")\n",
    "c = Variable(\"c\", 299792458, \"m/s\", \"Speed of light in vacuum\")\n",
    "Q_s = Variable(\"Q_s\", 1367, \"W/m^2\", \"solar flux constant\")\n",
    "R_earth = Variable(\"R_e\", 6371, \"km\", \"earth radius\")"
   ]
  },
  {
   "cell_type": "markdown",
   "metadata": {},
   "source": [
    "Free parameters\n",
    "- Note: challenge between which parameter to use, semi-major axis or altitude"
   ]
  },
  {
   "cell_type": "code",
   "execution_count": 3,
   "metadata": {
    "collapsed": true
   },
   "outputs": [],
   "source": [
    "#a = gpkit.Variable(\"a\", \"m\", \"semi-major axis\") # our variable of interest is actually altitude\n",
    "#dd = Variable(\"d\",\"m\",\"dummy2\")\n",
    "#T = gpkit.Variable(\"T\", \"s\", \"orbit time\")"
   ]
  },
  {
   "cell_type": "markdown",
   "metadata": {},
   "source": [
    "Equations"
   ]
  },
  {
   "cell_type": "code",
   "execution_count": 4,
   "metadata": {
    "collapsed": true
   },
   "outputs": [],
   "source": [
    "surrogate_constant = gpkit.Variable('surr', 0.00010385799808613171, '1/km', 'surrogate value')\n",
    "factor  = gpkit.Variable('f', 6800.0, 'km', 'a dilution factor')"
   ]
  },
  {
   "cell_type": "code",
   "execution_count": 5,
   "metadata": {
    "collapsed": true
   },
   "outputs": [],
   "source": [
    "equations = []\n",
    "\n",
    "#a = h + R_earth\n",
    "#day_fraction = 0.00010385799808613171*a-0.092494738209717195 # surrogate\n",
    "\n",
    "#equations += [\n",
    "#     Tight([day_fraction <= surrogate_constant*a-0.092494738209717195]),\n",
    "#    SingleSignomialEquality(day_fraction,surrogate_constant*a - 0.0924847)]"
   ]
  },
  {
   "cell_type": "code",
   "execution_count": 31,
   "metadata": {
    "collapsed": true
   },
   "outputs": [],
   "source": [
    "class Comms(Model):\n",
    "    def setup(self):\n",
    "        rgs = Variable(\"Rgs\", \"km\", \"max distance to ground station\")\n",
    "        rgsmin = Variable(\"Rgsmin\", 10, \"km\", \"minimum rgs\")\n",
    "        rgsmax = Variable(\"Rgsmax\", 10000, \"km\", \"maximum rgs\")\n",
    "        \n",
    "        tf = Variable(\"tx_f\", 2.2, \"GHz\", \"transmit frequency\")\n",
    "        tl = Variable(\"tx_l\", \"m\", \"transmit wavelength\")\n",
    "        \n",
    "        brate = Variable(\"brate\", 85, \"Mbps\", \"bit rate required\")\n",
    "        \n",
    "        PT = Variable(\"P_tx\", \"W\", \"spacecraft transmit power\")\n",
    "        PTmin = Variable(\"PTmin\", 0.0001, \"W\", \"min PT\")\n",
    "        PTmax = Variable(\"PTmax\", 500, \"W\", \"max PT\")\n",
    "        \n",
    "        tD = Variable(\"tx_D\", 0.3, \"m\", \"spacecraft antenna diameter\")\n",
    "        Lpt = Variable(\"L_pt\", 0.1412, \"-\", \"pointing loss\")\n",
    "        Ll = Variable(\"L_l\", 0.1, \"-\", \"line loss\")\n",
    "        #tG = Variable(\"tx_G\", \"-\", \"transmit gain\")\n",
    "        #EIRP = Variable(\"EIRP\", \"W\", \"Equivalent Isotropic Received Power\")\n",
    "        #pl = Variable(\"pl\", \"-\", \"path loss\")\n",
    "        \n",
    "        rG = Variable(\"rG\", \"-\", \"ground receive gain\")\n",
    "        rD = Variable(\"rD\", 5.3, \"m\", \"ground receive diamater\")\n",
    "        Tsys = Variable(\"Tsys\", 135, \"K\", \"system temperature\")\n",
    "        eta = Variable(\"\\\\eta\", 0.55, \"-\", \"dish efficiency\")\n",
    "        ebno_req = Variable(\"ebno_{req}\", 25, \"-\", \"ebno required\")\n",
    "        \n",
    "        ebno = Variable(\"ebno\", \"-\", \"engery per bit over noise spectral density\")\n",
    "        \n",
    "        return [\n",
    "            #EIRP <= tG * PT,\n",
    "            rgs <= rgsmax,\n",
    "            rgs >= rgsmin,\n",
    "            PT <= PTmax,\n",
    "            PTmin <= PT,\n",
    "            tl == c / tf,\n",
    "            rG <= eta*(pi * rD/tl)**2, # SMAD 3 p. 556\n",
    "            ebno == PT * Ll * eta * (tD**2 / rgs**2) * Lpt * rG / (k * Tsys * brate),\n",
    "            ebno_req <= ebno\n",
    "        ]"
   ]
  },
  {
   "cell_type": "code",
   "execution_count": 32,
   "metadata": {
    "collapsed": true
   },
   "outputs": [],
   "source": [
    "class Payload(Model):\n",
    "    def setup(self):\n",
    "        l = Variable(\"\\\\lambda\", 500, \"nm\", \"image payload wavelength\")\n",
    "        D = Variable(\"D_{ap}\", \"m\", \"aperture\")\n",
    "        Dmin = Variable(\"Dmin\", 0.001, \"m\", \"minimum aperture size\")\n",
    "        Dmax = Variable(\"Dmax\", 0.2, \"m\", \"maximum aperture size\")\n",
    "        mass = Variable(\"mass_pay\", \"kg\", \"payload mass\")\n",
    "        \n",
    "        return [\n",
    "            D >= Dmin,\n",
    "            D <= Dmax,\n",
    "            mass == 100*units(\"kg/m**1.5\")*D**1.5\n",
    "        ]"
   ]
  },
  {
   "cell_type": "code",
   "execution_count": 8,
   "metadata": {
    "collapsed": true
   },
   "outputs": [],
   "source": [
    "class TestComms(Model):\n",
    "    def setup(self):\n",
    "        self.comms = Comms()\n",
    "        h = gpkit.Variable(\"h\", \"km\", \"altitude\")\n",
    "        h_min = gpkit.Variable('h_{min}', 2831, 'km', 'minimum altitude')\n",
    "        h_max = gpkit.Variable('h_{max}', 30000, 'km', 'maximum altitude')\n",
    "        \n",
    "        constraints = [\n",
    "            h >= h_min,\n",
    "            h <= h_max,\n",
    "            h*h + 2*h*R_earth <= self.comms[\"Rgs\"]**2\n",
    "        ]\n",
    "        \n",
    "        self.cost = self.comms[\"P_tx\"]\n",
    "        \n",
    "        return constraints, self.comms"
   ]
  },
  {
   "cell_type": "code",
   "execution_count": 9,
   "metadata": {
    "collapsed": true
   },
   "outputs": [],
   "source": [
    "co = TestComms()"
   ]
  },
  {
   "cell_type": "code",
   "execution_count": 10,
   "metadata": {},
   "outputs": [
    {
     "name": "stdout",
     "output_type": "stream",
     "text": [
      "Using solver 'mosek_cli'\n",
      "Solving for 6 variables.\n",
      "Solving took 0.119 seconds.\n"
     ]
    }
   ],
   "source": [
    "sol = co.solve()"
   ]
  },
  {
   "cell_type": "code",
   "execution_count": 11,
   "metadata": {},
   "outputs": [
    {
     "name": "stdout",
     "output_type": "stream",
     "text": [
      "\n",
      "Cost\n",
      "----\n",
      " 30.43 [W] \n",
      "\n",
      "Free Variables\n",
      "--------------\n",
      "     | TestComms\n",
      "   h : 2831            [km] altitude\n",
      "\n",
      "     | TestComms/Comms\n",
      "P_tx : 30.43           [W]  transmit power\n",
      " Rgs : 6640            [km] max distance to ground station\n",
      "ebno : 25                   engery per bit over noise spectral density\n",
      "  rG : 8211                 receive gain\n",
      "tx_l : 0.1363          [m]  transmit wavelength\n",
      "\n",
      "Constants\n",
      "---------\n",
      "       R_e : 6371            [km]  earth radius\n",
      "         c : 2.998e+08       [m/s] Speed of light in vacuum\n",
      "         k : 1.381e-23       [J/K] Boltzman constant R/Na\n",
      "\n",
      "           | TestComms\n",
      "   h_{max} : 3e+04           [km]  maximum altitude\n",
      "   h_{min} : 2831            [km]  minimum altitude\n",
      "\n",
      "           | TestComms/Comms\n",
      "       L_l : 0.1                   line loss\n",
      "      L_pt : 0.1412                pointing loss\n",
      "     PTmax : 500             [W]   max PT\n",
      "     PTmin : 0.0001          [W]   min PT\n",
      "    Rgsmax : 1e+04           [km]  maximum rgs\n",
      "    Rgsmin : 10              [km]  minimum rgs\n",
      "      Tsys : 135             [K]   system temperature\n",
      "      \\eta : 0.55                  efficiency\n",
      "     brate : 85              [MBd] bit rate required\n",
      "ebno_{req} : 25                    ebno required\n",
      "        rD : 5.3             [m]   receive diamater\n",
      "      tx_D : 0.3             [m]   antenna diameter\n",
      "      tx_f : 2.2             [GHz] transmit frequency\n",
      "\n",
      "Sensitivities\n",
      "-------------\n",
      "         c : +2             Speed of light in vacuum\n",
      "         k : +1             Boltzman constant R/Na\n",
      "       R_e : +0.82          earth radius\n",
      "\n",
      "           | TestComms\n",
      "   h_{min} : +1.2           minimum altitude\n",
      "   h_{max} : +0             maximum altitude\n",
      "\n",
      "           | TestComms/Comms\n",
      "      \\eta : -2             efficiency\n",
      "        rD : -2             receive diamater\n",
      "      tx_D : -2             antenna diameter\n",
      "      tx_f : -2             transmit frequency\n",
      "      Tsys : +1             system temperature\n",
      "     brate : +1             bit rate required\n",
      "ebno_{req} : +1             ebno required\n",
      "       L_l : -1             line loss\n",
      "      L_pt : -1             pointing loss\n",
      "    Rgsmin : +2.6e-10       minimum rgs\n",
      "     PTmin : +1.1e-10       min PT\n",
      "    Rgsmax : -7.7e-10       maximum rgs\n",
      "     PTmax : -5.5e-10       max PT\n",
      "\n"
     ]
    }
   ],
   "source": [
    "print sol.table()"
   ]
  },
  {
   "cell_type": "code",
   "execution_count": 12,
   "metadata": {
    "collapsed": true
   },
   "outputs": [],
   "source": [
    "var = sol[\"variables\"]"
   ]
  },
  {
   "cell_type": "code",
   "execution_count": 13,
   "metadata": {
    "collapsed": true
   },
   "outputs": [],
   "source": [
    "Ls = 20*log10(var[\"tx_l\"]/(4*pi*var[\"Rgs\"]))"
   ]
  },
  {
   "cell_type": "code",
   "execution_count": 14,
   "metadata": {
    "collapsed": true
   },
   "outputs": [],
   "source": [
    "Gt = 10*log10(0.55*(pi*var[\"tx_D\"]/var[\"tx_l\"])**2) - 8.5"
   ]
  },
  {
   "cell_type": "code",
   "execution_count": 15,
   "metadata": {
    "collapsed": true
   },
   "outputs": [],
   "source": [
    "P = 10*log10(var[\"P_tx\"].magnitude)"
   ]
  },
  {
   "cell_type": "code",
   "execution_count": 16,
   "metadata": {
    "collapsed": true
   },
   "outputs": [],
   "source": [
    "Gr = 10*log10(0.55*(pi*var[\"rD\"]/var[\"tx_l\"])**2) - 0.1"
   ]
  },
  {
   "cell_type": "code",
   "execution_count": 17,
   "metadata": {},
   "outputs": [
    {
     "data": {
      "text/plain": [
       "-228.5991388630708"
      ]
     },
     "execution_count": 17,
     "metadata": {},
     "output_type": "execute_result"
    }
   ],
   "source": [
    "10*log10(var[\"k\"].magnitude)"
   ]
  },
  {
   "cell_type": "code",
   "execution_count": 18,
   "metadata": {
    "collapsed": true
   },
   "outputs": [],
   "source": [
    "T = 10*log10(var[\"Tsys\"].magnitude)"
   ]
  },
  {
   "cell_type": "code",
   "execution_count": 19,
   "metadata": {
    "collapsed": true
   },
   "outputs": [],
   "source": [
    "R = 10*log10(var[\"brate\"].magnitude*1e6)"
   ]
  },
  {
   "cell_type": "code",
   "execution_count": 20,
   "metadata": {
    "collapsed": true
   },
   "outputs": [],
   "source": [
    "#EIRP+Ls+Gr+228.6-T-R-0.3"
   ]
  },
  {
   "cell_type": "code",
   "execution_count": 21,
   "metadata": {},
   "outputs": [
    {
     "data": {
      "text/plain": [
       "0.14125375446227545"
      ]
     },
     "execution_count": 21,
     "metadata": {},
     "output_type": "execute_result"
    }
   ],
   "source": [
    "10**(-8.5/10)"
   ]
  },
  {
   "cell_type": "code",
   "execution_count": 22,
   "metadata": {},
   "outputs": [
    {
     "data": {
      "text/plain": [
       "25.000004378295362"
      ]
     },
     "execution_count": 22,
     "metadata": {},
     "output_type": "execute_result"
    }
   ],
   "source": [
    "var[\"ebno\"]"
   ]
  },
  {
   "cell_type": "code",
   "execution_count": 23,
   "metadata": {},
   "outputs": [
    {
     "data": {
      "text/plain": [
       "13.979400847308117"
      ]
     },
     "execution_count": 23,
     "metadata": {},
     "output_type": "execute_result"
    }
   ],
   "source": [
    "10*log10(var[\"ebno\"])"
   ]
  },
  {
   "cell_type": "code",
   "execution_count": 33,
   "metadata": {
    "collapsed": true
   },
   "outputs": [],
   "source": [
    "class Power(Model):\n",
    "    def setup(self):\n",
    "        P = Variable(\"P\", \"W\", \"spacecraft total power\")\n",
    "        A = Variable(\"A\", \"m^2\", \"surface area solar panels\")\n",
    "        amax = Variable(\"amax\", 100, \"m^2\", \"surface area max\")\n",
    "        amin = Variable(\"amin\", 0.001, \"m^2\", \"surface area min\")\n",
    "        day_fraction = Variable(\"td\", \"-\", \"not in-eclipse fraction\")\n",
    "        tdmax = Variable(\"tdmax\", 0.8, \"-\")\n",
    "        tdmin = Variable(\"tdmin\", 0.3, \"-\")\n",
    "        sa_spc_ene = Variable('spc', 15, 'W/kg', 'power density of solar arrays') \n",
    "        eta_s = Variable(\"\\\\eta_s\", 0.29, \"-\", \"solar panel efficiency\")\n",
    "        surrogate_constant = Variable('surr', 0.00010385799808613171, '1/km', 'surrogate value')\n",
    "        P_min  = Variable('P_{min}', 0.1, 'W', 'min power')\n",
    "        P_max  = Variable('P_{max}', 4000, 'W', 'max power')\n",
    "        mass_p = Variable(\"mass_p\", 'kg', 'power subsystem mass')\n",
    "        return [\n",
    "            P >= P_min,\n",
    "            P <= P_max,\n",
    "            A <= amax,\n",
    "            A >= amin,\n",
    "            day_fraction <= tdmax,\n",
    "            day_fraction >= tdmin,\n",
    "            P == day_fraction * A * eta_s * Q_s,\n",
    "            mass_p >= P/sa_spc_ene\n",
    "        ]"
   ]
  },
  {
   "cell_type": "code",
   "execution_count": 34,
   "metadata": {
    "collapsed": true
   },
   "outputs": [],
   "source": [
    "class Satellite(Model):\n",
    "    def setup(self):\n",
    "        mass = gpkit.Variable(\"m_t\", 'kg', 'spacecraft total mass')\n",
    "        \n",
    "        constraints = []\n",
    "        \n",
    "        self.power = Power()\n",
    "        self.comms = Comms()\n",
    "        self.payload = Payload()\n",
    "        \n",
    "        constraints.extend([\n",
    "            self.power[\"P\"] >= self.comms[\"P_tx\"],\n",
    "            mass >= self.power[\"mass_p\"] + self.payload[\"mass_pay\"]\n",
    "        ])\n",
    "        \n",
    "        return constraints, self.power, self.comms, self.payload"
   ]
  },
  {
   "cell_type": "code",
   "execution_count": 41,
   "metadata": {
    "collapsed": true
   },
   "outputs": [],
   "source": [
    "class Mission(Model):\n",
    "    def setup(self):\n",
    "        h = Variable(\"h\", \"km\", \"orbit altitude\")\n",
    "        h_min = Variable('h_{min}', 400, 'km', 'minimum orbit altitude')\n",
    "        h_max = Variable('h_{max}', 800, 'km', 'maximum orbit altitude')\n",
    "        #dum1 = Variable('dum1','-')\n",
    "        Xp = Variable('xp', 'm', 'diffraction limited resolution')\n",
    "        Xp_req = Variable('xp_{req}', 10, 'm', 'required resolution')\n",
    "        \n",
    "        satellite = Satellite()\n",
    "        self.satellite = satellite\n",
    "        # could access items without going into subsystems, but feel this keeps it cleaner\n",
    "        power = satellite.power\n",
    "        comms = satellite.comms\n",
    "        payload = satellite.payload\n",
    "        \n",
    "        constraints = [\n",
    "            SingleSignomialEquality(power[\"td\"], surrogate_constant*(h+R_earth)),\n",
    "            h >= h_min,\n",
    "            #h <= h_max,\n",
    "            Xp == 1.22 * h * payload[\"\\\\lambda\"]/payload[\"D_{ap}\"],\n",
    "            Xp <= Xp_req,\n",
    "            SingleSignomialEquality(h*h + 2*h*R_earth, comms[\"Rgs\"]**2)\n",
    "        ]\n",
    "        \n",
    "        self.cost = satellite[\"m_t\"] #+ h*units('kg/km')\n",
    "        \n",
    "        return constraints, satellite"
   ]
  },
  {
   "cell_type": "code",
   "execution_count": 42,
   "metadata": {
    "collapsed": true
   },
   "outputs": [],
   "source": [
    "m = Mission()"
   ]
  },
  {
   "cell_type": "code",
   "execution_count": 43,
   "metadata": {
    "collapsed": true
   },
   "outputs": [],
   "source": [
    "m.substitutions.update({'xp_{req}':('sweep', [5])})\n",
    "m.substitutions.update({'ebno_{req}':('sweep', [10,15,25])})"
   ]
  },
  {
   "cell_type": "code",
   "execution_count": 44,
   "metadata": {},
   "outputs": [
    {
     "name": "stdout",
     "output_type": "stream",
     "text": [
      "Solving over 3 passes.\n",
      "Sweeping took 0.765 seconds.\n"
     ]
    }
   ],
   "source": [
    "sol = m.localsolve()"
   ]
  },
  {
   "cell_type": "code",
   "execution_count": 45,
   "metadata": {},
   "outputs": [
    {
     "name": "stdout",
     "output_type": "stream",
     "text": [
      "\n",
      "Cost\n",
      "----\n",
      " [ 1.17      1.22      1.32      ] [kg] \n",
      "\n",
      "Sweep Variables\n",
      "---------------\n",
      "           | Mission.2\n",
      "  xp_{req} : [ 5         5         5        ]  [m] required resolution\n",
      "\n",
      "           | Mission.2/Satellite.2/Comms.3\n",
      "ebno_{req} : [ 10        15        25       ]      ebno required\n",
      "\n",
      "Free Variables\n",
      "--------------\n",
      "         | Mission.2\n",
      "       h : [ 400       400       400      ]  [km]   orbit altitude\n",
      "      xp : [ 5         5         5        ]  [m]    diffraction limited resolution\n",
      "\n",
      "         | Mission.2/Satellite.2\n",
      "     m_t : [ 1.17      1.22      1.32     ]  [kg]   spacecraft total mass\n",
      "\n",
      "         | Mission.2/Satellite.2/Comms.3\n",
      "    P_tx : [ 1.45      2.18      3.63     ]  [W]    spacecraft transmit power\n",
      "     Rgs : [ 2.29e+03  2.29e+03  2.29e+03 ]  [km]   max distance to ground station\n",
      "    ebno : [ 10        15        25       ]         engery per bit over noise spectral density\n",
      "      rG : [ 8.21e+03  8.21e+03  8.21e+03 ]         ground receive gain\n",
      "    tx_l : [ 0.136     0.136     0.136    ]  [m]    transmit wavelength\n",
      "\n",
      "         | Mission.2/Satellite.2/Payload.2\n",
      "  D_{ap} : [ 0.0488    0.0488    0.0488   ]  [m]    aperture\n",
      "mass_pay : [ 1.08      1.08      1.08     ]  [kg]   payload mass\n",
      "\n",
      "         | Mission.2/Satellite.2/Power.2\n",
      "       A : [ 0.00521   0.00781   0.013    ]  [m**2] surface area solar panels\n",
      "       P : [ 1.45      2.18      3.63     ]  [W]    spacecraft total power\n",
      "  mass_p : [ 0.0967    0.145     0.242    ]  [kg]   power subsystem mass\n",
      "      td : [ 0.703     0.703     0.703    ]         not in-eclipse fraction\n",
      "\n",
      "Constants\n",
      "---------\n",
      "    Q_s : 1367                            [W/m**2] solar constant\n",
      "    R_e : 6371                            [km]     earth radius\n",
      "      c : 2.998e+08                       [m/s]    Speed of light in vacuum\n",
      "      k : 1.381e-23                       [J/K]    Boltzman constant R/Na\n",
      "   surr : 0.0001039                       [1/km]   surrogate value\n",
      "\n",
      "        | Mission.2\n",
      "h_{min} : 400                             [km]     minimum orbit altitude\n",
      "\n",
      "        | Mission.2/Satellite.2/Comms.3\n",
      "    L_l : 0.1                                      line loss\n",
      "   L_pt : 0.1412                                   pointing loss\n",
      "  PTmax : 500                             [W]      max PT\n",
      "  PTmin : 0.0001                          [W]      min PT\n",
      " Rgsmax : 1e+04                           [km]     maximum rgs\n",
      " Rgsmin : 10                              [km]     minimum rgs\n",
      "   Tsys : 135                             [K]      system temperature\n",
      "   \\eta : 0.55                                     dish efficiency\n",
      "  brate : 85                              [MBd]    bit rate required\n",
      "     rD : 5.3                             [m]      ground receive diamater\n",
      "   tx_D : 0.3                             [m]      spacecraft antenna diameter\n",
      "   tx_f : 2.2                             [GHz]    transmit frequency\n",
      "\n",
      "        | Mission.2/Satellite.2/Payload.2\n",
      "   Dmax : 0.2                             [m]      maximum aperture size\n",
      "   Dmin : 0.001                           [m]      minimum aperture size\n",
      "\\lambda : 500                             [nm]     image payload wavelength\n",
      "\n",
      "        | Mission.2/Satellite.2/Power.2\n",
      "P_{max} : 4000                            [W]      max power\n",
      "P_{min} : 0.1                             [W]      min power\n",
      " \\eta_s : 0.29                                     solar panel efficiency\n",
      "   amax : 100                             [m**2]   surface area max\n",
      "   amin : 0.001                           [m**2]   surface area min\n",
      "    spc : 15                              [W/kg]   power density of solar arrays\n",
      "  tdmax : 0.8\n",
      "  tdmin : 0.3\n",
      "\n",
      "Sensitivities\n",
      "-------------\n",
      "         c : [ +0.16     +0.24     +0.37    ] Speed of light in vacuum\n",
      "         k : [ +0.082    +0.12     +0.18    ] Boltzman constant R/Na\n",
      "       R_e : [ +0.08     +0.12     +0.18    ] earth radius\n",
      "      surr : [ +4.6e-09  +2.4e-09  +1.4e-09 ] surrogate value\n",
      "       Q_s : [ +3.5e-10  +1.4e-10  +5.8e-11 ] solar constant\n",
      "\n",
      "           | Mission.2\n",
      "   h_{min} : [ +1.5      +1.4      +1.4     ] minimum orbit altitude\n",
      "  xp_{req} : [ -1.4      -1.3      -1.2     ] required resolution\n",
      "\n",
      "           | Mission.2/Satellite.2/Comms.3\n",
      "      tx_f : [ -0.16     -0.24     -0.37    ] transmit frequency\n",
      "      \\eta : [ -0.16     -0.24     -0.37    ] dish efficiency\n",
      "        rD : [ -0.16     -0.24     -0.37    ] ground receive diamater\n",
      "      tx_D : [ -0.16     -0.24     -0.37    ] spacecraft antenna diameter\n",
      "      Tsys : [ +0.082    +0.12     +0.18    ] system temperature\n",
      "     brate : [ +0.082    +0.12     +0.18    ] bit rate required\n",
      "ebno_{req} : [ +0.082    +0.12     +0.18    ] ebno required\n",
      "       L_l : [ -0.082    -0.12     -0.18    ] line loss\n",
      "      L_pt : [ -0.082    -0.12     -0.18    ] pointing loss\n",
      "     PTmax : [ +0        +0        +0       ] max PT\n",
      "     PTmin : [ +0        +0        +0       ] min PT\n",
      "    Rgsmax : [ +0        +0        +0       ] maximum rgs\n",
      "    Rgsmin : [ +0        +0        +0       ] minimum rgs\n",
      "\n",
      "           | Mission.2/Satellite.2/Payload.2\n",
      "   \\lambda : [ +1.4      +1.3      +1.2     ] image payload wavelength\n",
      "      Dmin : [ +1.4e-10  +7.9e-11  +4.6e-11 ] minimum aperture size\n",
      "      Dmax : [ -3.9e-10  -2.2e-10  -1.3e-10 ] maximum aperture size\n",
      "\n",
      "           | Mission.2/Satellite.2/Power.2\n",
      "       spc : [ -0.082    -0.12     -0.18    ] power density of solar arrays\n",
      "     tdmax : [ -4.3e-09  -2.3e-09  -1.3e-09 ]\n",
      "      amin : [ +4e-10    +1.7e-10  +7.8e-11 ] surface area min\n",
      "    \\eta_s : [ +3.5e-10  +1.4e-10  +5.8e-11 ] solar panel efficiency\n",
      "   P_{min} : [ +2.1e-10  +1.1e-10  +5.4e-11 ] min power\n",
      "     tdmin : [ +0        +0        +0       ]\n",
      "   P_{max} : [ -7.4e-11  -4.3e-11  -2.6e-11 ] max power\n",
      "      amax : [ -5.8e-11  -3.2e-11  -2e-11   ] surface area max\n",
      "\n"
     ]
    }
   ],
   "source": [
    "print sol.table()"
   ]
  },
  {
   "cell_type": "markdown",
   "metadata": {},
   "source": [
    "Day fraction fitting"
   ]
  },
  {
   "cell_type": "code",
   "execution_count": 454,
   "metadata": {
    "collapsed": true
   },
   "outputs": [],
   "source": [
    "Re = 6378\n",
    "rmin = Re+400\n",
    "rmax = Re+800\n",
    "rar = np.linspace(rmin, rmax)\n",
    "har = np.linspace(400, 800)\n",
    "te = 1-np.arcsin(Re/rar)/pi"
   ]
  },
  {
   "cell_type": "code",
   "execution_count": 743,
   "metadata": {},
   "outputs": [
    {
     "data": {
      "image/png": "[encoded data removed]",
      "text/plain": [
       "<matplotlib.figure.Figure at 0xbfc00b8>"
      ]
     },
     "metadata": {},
     "output_type": "display_data"
    }
   ],
   "source": [
    "%matplotlib inline\n",
    "#http://stackoverflow.com/questions/29382903/how-to-apply-piecewise-linear-fit-in-python\n",
    "import matplotlib.pyplot as plt\n",
    "from scipy import optimize\n",
    "def piecewise_linear(x, x0, y0, k1, k2):\n",
    "    return np.piecewise(x, [x < x0], [lambda x:k1*x + y0-k1*x0, lambda x:k2*x + y0-k2*x0])\n",
    "p , e = optimize.curve_fit(piecewise_linear, rar, te)\n",
    "z = np.poly1d(np.polyfit(har,te,1))\n",
    "plt.plot(har, te)\n",
    "#plt.plot(rar, piecewise_linear(rar, *p))\n",
    "plt.plot(har, z.coeffs[0]*rar+z.coeffs[1]-0.662)\n",
    "plt.show()"
   ]
  },
  {
   "cell_type": "code",
   "execution_count": 27,
   "metadata": {},
   "outputs": [
    {
     "data": {
      "text/plain": [
       "-0.001122853041117324"
      ]
     },
     "execution_count": 27,
     "metadata": {},
     "output_type": "execute_result"
    }
   ],
   "source": [
    "z.coeffs[0]/z.coeffs[1]"
   ]
  },
  {
   "cell_type": "code",
   "execution_count": 30,
   "metadata": {},
   "outputs": [
    {
     "data": {
      "text/plain": [
       "-0.092494738209717195"
      ]
     },
     "execution_count": 30,
     "metadata": {},
     "output_type": "execute_result"
    }
   ],
   "source": [
    "z.coeffs[1]"
   ]
  },
  {
   "cell_type": "code",
   "execution_count": null,
   "metadata": {
    "collapsed": true
   },
   "outputs": [],
   "source": []
  }
 ],
 "metadata": {
  "anaconda-cloud": {},
  "kernelspec": {
   "display_name": "Python [conda env:aerohybrid]",
   "language": "python",
   "name": "conda-env-aerohybrid-py"
  },
  "language_info": {
   "codemirror_mode": {
    "name": "ipython",
    "version": 2
   },
   "file_extension": ".py",
   "mimetype": "text/x-python",
   "name": "python",
   "nbconvert_exporter": "python",
   "pygments_lexer": "ipython2",
   "version": "2.7.13"
  }
 },
 "nbformat": 4,
 "nbformat_minor": 1
}
