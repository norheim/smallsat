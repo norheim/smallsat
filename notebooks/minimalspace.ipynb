{
 "cells": [
  {
   "cell_type": "code",
   "execution_count": 1,
   "metadata": {},
   "outputs": [],
   "source": [
    "import numpy as np\n",
    "import gpkit\n",
    "import astropy.constants as const\n",
    "from gpkit import Model, Variable\n",
    "from gpkit.nomials.math import SingleSignomialEquality,SignomialInequality\n",
    "gpkit.SIGNOMIALS_ENABLED = True\n",
    "from collections import OrderedDict"
   ]
  },
  {
   "cell_type": "code",
   "execution_count": 14,
   "metadata": {},
   "outputs": [],
   "source": [
    "muval = 3.98e14\n",
    "alpha_1 = Variable(\"\\\\alpha_1\", 0.6624)\n",
    "alpha_2 = Variable(\"\\\\alpha_2\", 0.06991)\n",
    "alpha_3 = Variable(\"\\\\alpha_3\", 1266.75, \"s\")\n",
    "alpha_4 = Variable(\"\\\\alpha_4\", 804.90, \"s\")\n",
    "\n",
    "R_earth = Variable(\"R_{earth}\", const.R_earth.value, \"m\", \"earth radius\")\n",
    "eta_s = Variable(\"\\\\eta_s\", 0.29, \"-\", \"solar panel efficiency\")\n",
    "Q_s = Variable(\"Q_s\", 1367, \"W/m^2\", \"solar flux constant\")\n",
    "EbNo_req = Variable(\"EbNo_{req}\", 40, \"-\", \"ebno required\")\n",
    "\n",
    "G_Rx = Variable(\"G_{Rx}\", \"-\", \"ground receive gain\")\n",
    "D_Rx = Variable(\"D_{Rx}\", 5.3, \"m\", \"ground receive diamater\")\n",
    "\n",
    "D_Tx = Variable(\"D_{Tx}\", \"m\", \"spacecraft antenna diameter\")\n",
    "L_other = Variable(\"L_{other}\", 9.772372209558107, \"-\", \"line loss\") #1.58489\n",
    "k = Variable(\"k\", const.k_B.value, \"J/K\", \"Boltzman constant R/Na\")\n",
    "T_sys = Variable(\"T_{sys}\", 135, \"K\", \"system temperature\")\n",
    "N = Variable(\"N\", 2000, '-', 'number of pixels along width')\n",
    "B_ppx = Variable(\"B_{ppx}\", 8, \"bit\", \"bit per pixel\")\n",
    "eta = Variable(\"\\\\eta\", 0.55, \"-\", \"dish efficiency\")\n",
    "lambda_obs = Variable(\"\\\\lambda_{obs}\", 500, \"nm\", \"image payload wavelength\")\n",
    "e = Variable(\"e\", 25, 'W/kg', 'power density of solar arrays') \n",
    "A_rho = Variable(\"A_{rho}\", 10, \"kg/m^2\", \"solar panel area density\")\n",
    "\n",
    "f = Variable(\"f\", 2.2, \"GHz\", \"transmit frequency\")\n",
    "lambda_com = Variable(\"\\\\lambda_{com}\", \"m\", \"transmit wavelength\") #fake variable    \n",
    "c = Variable(\"c\", const.c.value, \"m/s\", \"Speed of light in vacuum\")\n",
    "D_rho = Variable(\"D_{rho}\", 100, \"kg/m^1.5\")\n",
    "DTx_rho = Variable(\"DTx_{rho}\", 2, \"kg/m^1.5\")\n",
    "h_min = Variable('h_{min}', 400, 'km', 'minimum orbit altitude')\n",
    "\n",
    "prop_rho = Variable('prop_{rho}', 500, 'kg*km', 'propellant altitude constant')\n",
    "a_const = Variable('a_const', 200, 'km', 'altitude constant')\n",
    "alpha_5 = Variable(\"\\\\alpha_5\", 0.058823529411764705, \"year/km\")\n",
    "alpha_6 = Variable(\"\\\\alpha_6\", 1., \"year/kg\")\n",
    "T = Variable(\"T\", 3, \"year\", \"lifetime\")\n",
    "P_load = Variable(\"P_{load}\", 5, \"W\", \"constant power drain\")\n",
    "m_extra = Variable(\"m_{extra}\", 0.2, \"kg\", \"constant mass\")\n",
    "\n",
    "mu = Variable(\"mu\", muval, \"m^3/s^2\", \"standard gravitational parameter\")\n",
    "\n",
    "####\n",
    "Xp_req = Variable('Xp_{req}', 20, 'm', 'required resolution')\n",
    "m_total = Variable(\"m_{total}\", 'kg', 'spacecraft total mass')\n",
    "h = Variable(\"h\", \"km\", \"orbit altitude\")\n",
    "d_f = Variable(\"d_f\", \"-\", \"not in-eclipse orbit fraction\")\n",
    "P_suppl = Variable(\"P_{suppl}\", \"W\", \"spacecraft total power\")\n",
    "P_Tx = Variable(\"P_{Tx}\", \"W\", \"transmit power\")\n",
    "r = Variable(\"r\", \"km\", \"max distance to ground station\")\n",
    "GS_f = Variable(\"GS_f\", \"-\", \"downlink orbit fraction\")\n",
    "P = Variable(\"P\", \"min\", \"period\")\n",
    "D = Variable(\"D\", \"m\", \"aperture\")\n",
    "A = Variable(\"A\", \"m^2\", \"surface area solar panels\")\n",
    "m_p = Variable(\"m_p\", \"kg\", \"propellant mass\")\n",
    "a = Variable(\"a\", \"km\", \"formulation variable for altitude\")"
   ]
  },
  {
   "cell_type": "code",
   "execution_count": 15,
   "metadata": {},
   "outputs": [],
   "source": [
    "hval = 872.8*1000\n",
    "rearth = R_earth.value.magnitude\n",
    "gs_f = 1/np.pi*np.arccos(rearth/(rearth+hval))\n",
    "df = gs_f+0.5 \n",
    "p = 2*np.pi*np.sqrt((rearth+hval)**3/muval)/60\n",
    "rval = np.sqrt(hval**2+2*rearth*hval)/1000"
   ]
  },
  {
   "cell_type": "code",
   "execution_count": 16,
   "metadata": {},
   "outputs": [
    {
     "name": "stdout",
     "output_type": "stream",
     "text": [
      "Using solver 'mosek_cli'\n",
      "Solving for 8 variables.\n",
      "Solving took 0.075 seconds.\n",
      "\n",
      "Cost\n",
      "----\n",
      " 2.114 [kg] \n",
      "\n",
      "Free Variables\n",
      "--------------\n",
      "            A : 0.03648  [m**2] surface area solar panels\n",
      "            D : 0.02182  [m]    aperture\n",
      "       D_{Tx} : 0.237    [m]    spacecraft antenna diameter\n",
      "       G_{Rx} : 8211            ground receive gain\n",
      "       P_{Tx} : 4.514    [W]    transmit power\n",
      "    P_{suppl} : 9.514    [W]    spacecraft total power\n",
      "\\lambda_{com} : 0.1363   [m]    transmit wavelength\n",
      "    m_{total} : 2.114    [kg]   spacecraft total mass\n",
      "\n",
      "Constants\n",
      "---------\n",
      "      A_{rho} : 10         [kg/m**2]   solar panel area density\n",
      "      B_{ppx} : 8          [bit]       bit per pixel\n",
      "    DTx_{rho} : 2          [kg/m**1.5]\n",
      "       D_{Rx} : 5.3        [m]         ground receive diamater\n",
      "      D_{rho} : 100        [kg/m**1.5]\n",
      "   EbNo_{req} : 40                     ebno required\n",
      "         GS_f : 0.1578                 downlink orbit fraction\n",
      "    L_{other} : 9.772                  line loss\n",
      "            N : 2000                   number of pixels along width\n",
      "            P : 102.5      [min]       period\n",
      "     P_{load} : 5          [W]         constant power drain\n",
      "          Q_s : 1367       [W/m**2]    solar flux constant\n",
      "    R_{earth} : 6.378e+06  [m]         earth radius\n",
      "      T_{sys} : 135        [K]         system temperature\n",
      "     Xp_{req} : 20         [m]         required resolution\n",
      "         \\eta : 0.55                   dish efficiency\n",
      "       \\eta_s : 0.29                   solar panel efficiency\n",
      "\\lambda_{obs} : 500        [nm]        image payload wavelength\n",
      "            c : 2.998e+08  [m/s]       Speed of light in vacuum\n",
      "          d_f : 0.6578                 not in-eclipse orbit fraction\n",
      "            f : 2.2        [GHz]       transmit frequency\n",
      "            h : 872.8      [km]        orbit altitude\n",
      "            k : 1.381e-23  [J/K]       Boltzman constant R/Na\n",
      "    m_{extra} : 0.2        [kg]        constant mass\n",
      "   prop_{rho} : 500        [kg*km]     propellant altitude constant\n",
      "            r : 3449       [km]        max distance to ground station\n",
      "\n",
      "Sensitivities\n",
      "-------------\n",
      "     Xp_{req} : -0.39  required resolution\n",
      "   prop_{rho} : +0.34  propellant altitude constant\n",
      "\\lambda_{obs} : +0.29  image payload wavelength\n",
      "      A_{rho} : +0.22  solar panel area density\n",
      "          Q_s : -0.22  solar flux constant\n",
      "       \\eta_s : -0.22  solar panel efficiency\n",
      "          d_f : -0.22  not in-eclipse orbit fraction\n",
      "            c : +0.2   Speed of light in vacuum\n",
      "            f : -0.2   transmit frequency\n",
      "            r : +0.2   max distance to ground station\n",
      "       D_{Rx} : -0.2   ground receive diamater\n",
      "         \\eta : -0.2   dish efficiency\n",
      "      D_{rho} : +0.19\n",
      "    DTx_{rho} : +0.14\n",
      "    m_{extra} : +0.12  constant mass\n",
      "     P_{load} : +0.11  constant power drain\n",
      "      B_{ppx} : +0.1   bit per pixel\n",
      "   EbNo_{req} : +0.1   ebno required\n",
      "    L_{other} : +0.1   line loss\n",
      "            N : +0.1   number of pixels along width\n",
      "    R_{earth} : +0.1   earth radius\n",
      "      T_{sys} : +0.1   system temperature\n",
      "            k : +0.1   Boltzman constant R/Na\n",
      "         GS_f : -0.1   downlink orbit fraction\n",
      "            P : -0.1   period\n",
      "            h : -0.053 orbit altitude\n",
      "\n"
     ]
    }
   ],
   "source": [
    "constraints = [\n",
    "    lambda_com == c/f,\n",
    "    G_Rx == eta*(np.pi*D_Rx/lambda_com)**2,\n",
    "    P_suppl == d_f*A*eta_s*Q_s,\n",
    "    P_Tx + P_load <= P_suppl,\n",
    "    EbNo_req == P_Tx*G_Rx*Xp_req*GS_f*P*eta*D_Tx**2/\n",
    "    (L_other*k*T_sys*R_earth*2*np.pi*N*B_ppx*(4*r**2)),\n",
    "    Xp_req == h*lambda_obs/D,\n",
    "    #d_f <= GS_f + 0.5,\n",
    "    #GS_f <= alpha_1*h/R_earth + alpha_2,\n",
    "    #GS_f**0.133355 <= 0.295066*(h/R_earth)**0.0619879+0.294791*(h/R_earth)**0.061991+\n",
    "    #0.294739 * (h/R_earth)**0.0619928,\n",
    "    #P <= 2*np.pi*(alpha_3*h/R_earth + alpha_4),\n",
    "    #r**2 >= h**2 + 2*R_earth*h,\n",
    "    D_rho*D**1.5 + DTx_rho*D_Tx**1.5 + A_rho*A + prop_rho/h + m_extra<= 0.8*m_total,\n",
    "    #h >= h_min,\n",
    "    #h <= a+a_const,\n",
    "    #T >= alpha_6*m_p + alpha_5*a\n",
    "]\n",
    "m = Model(m_total, constraints)\n",
    "m.substitutions.update(OrderedDict({r:rval, P:p, d_f:df, GS_f:gs_f, h:hval/1000}))\n",
    "print(m.solve().table())"
   ]
  },
  {
   "cell_type": "code",
   "execution_count": 5,
   "metadata": {},
   "outputs": [
    {
     "data": {
      "text/latex": [
       "$$a\\mathrm{~\\left[ \\mathrm{km} \\right]}$$"
      ],
      "text/plain": [
       "gpkit.Variable(a [km])"
      ]
     },
     "execution_count": 5,
     "metadata": {},
     "output_type": "execute_result"
    }
   ],
   "source": [
    "a"
   ]
  },
  {
   "cell_type": "code",
   "execution_count": 18,
   "metadata": {},
   "outputs": [],
   "source": [
    "from gpkit.constraints.bounded import Bounded"
   ]
  },
  {
   "cell_type": "code",
   "execution_count": 19,
   "metadata": {},
   "outputs": [
    {
     "name": "stdout",
     "output_type": "stream",
     "text": [
      "Beginning signomial solve.\n"
     ]
    },
    {
     "ename": "OverflowError",
     "evalue": "(34, 'Result too large')",
     "output_type": "error",
     "traceback": [
      "\u001b[1;31m---------------------------------------------------------------------------\u001b[0m",
      "\u001b[1;31mOverflowError\u001b[0m                             Traceback (most recent call last)",
      "\u001b[1;32m<ipython-input-19-5d26fe1ffd31>\u001b[0m in \u001b[0;36m<module>\u001b[1;34m()\u001b[0m\n\u001b[0;32m     24\u001b[0m \u001b[0mm\u001b[0m \u001b[1;33m=\u001b[0m \u001b[0mModel\u001b[0m\u001b[1;33m(\u001b[0m\u001b[0mm_total\u001b[0m\u001b[1;33m,\u001b[0m \u001b[0mBounded\u001b[0m\u001b[1;33m(\u001b[0m\u001b[0mconstraints\u001b[0m\u001b[1;33m)\u001b[0m\u001b[1;33m)\u001b[0m\u001b[1;33m\u001b[0m\u001b[0m\n\u001b[0;32m     25\u001b[0m \u001b[1;31m#m.substitutions.update(OrderedDict({r:rval, P:p, d_f:df, GS_f:gs_f}))\u001b[0m\u001b[1;33m\u001b[0m\u001b[1;33m\u001b[0m\u001b[0m\n\u001b[1;32m---> 26\u001b[1;33m \u001b[1;32mprint\u001b[0m\u001b[1;33m(\u001b[0m\u001b[0mm\u001b[0m\u001b[1;33m.\u001b[0m\u001b[0mlocalsolve\u001b[0m\u001b[1;33m(\u001b[0m\u001b[1;33m)\u001b[0m\u001b[1;33m.\u001b[0m\u001b[0mtable\u001b[0m\u001b[1;33m(\u001b[0m\u001b[1;33m)\u001b[0m\u001b[1;33m)\u001b[0m\u001b[1;33m\u001b[0m\u001b[0m\n\u001b[0m",
      "\u001b[1;32mC:\\Users\\johan\\Miniconda2\\envs\\gpsat\\lib\\site-packages\\gpkit\\constraints\\prog_factories.pyc\u001b[0m in \u001b[0;36msolvefn\u001b[1;34m(self, solver, verbosity, skipsweepfailures, **kwargs)\u001b[0m\n\u001b[0;32m     78\u001b[0m         \u001b[1;32melse\u001b[0m\u001b[1;33m:\u001b[0m\u001b[1;33m\u001b[0m\u001b[0m\n\u001b[0;32m     79\u001b[0m             \u001b[0mself\u001b[0m\u001b[1;33m.\u001b[0m\u001b[0mprogram\u001b[0m\u001b[1;33m,\u001b[0m \u001b[0mprogsolve\u001b[0m \u001b[1;33m=\u001b[0m \u001b[0mgenfunction\u001b[0m\u001b[1;33m(\u001b[0m\u001b[0mself\u001b[0m\u001b[1;33m)\u001b[0m\u001b[1;33m\u001b[0m\u001b[0m\n\u001b[1;32m---> 80\u001b[1;33m             \u001b[0mresult\u001b[0m \u001b[1;33m=\u001b[0m \u001b[0mprogsolve\u001b[0m\u001b[1;33m(\u001b[0m\u001b[0msolver\u001b[0m\u001b[1;33m,\u001b[0m \u001b[0mverbosity\u001b[0m\u001b[1;33m,\u001b[0m \u001b[1;33m**\u001b[0m\u001b[0mkwargs\u001b[0m\u001b[1;33m)\u001b[0m\u001b[1;33m\u001b[0m\u001b[0m\n\u001b[0m\u001b[0;32m     81\u001b[0m             \u001b[0msolution\u001b[0m\u001b[1;33m.\u001b[0m\u001b[0mappend\u001b[0m\u001b[1;33m(\u001b[0m\u001b[0mresult\u001b[0m\u001b[1;33m)\u001b[0m\u001b[1;33m\u001b[0m\u001b[0m\n\u001b[0;32m     82\u001b[0m         \u001b[0msolution\u001b[0m\u001b[1;33m.\u001b[0m\u001b[0mprogram\u001b[0m \u001b[1;33m=\u001b[0m \u001b[0mself\u001b[0m\u001b[1;33m.\u001b[0m\u001b[0mprogram\u001b[0m\u001b[1;33m\u001b[0m\u001b[0m\n",
      "\u001b[1;32mC:\\Users\\johan\\Miniconda2\\envs\\gpsat\\lib\\site-packages\\gpkit\\constraints\\sgp.pyc\u001b[0m in \u001b[0;36mlocalsolve\u001b[1;34m(self, solver, verbosity, x0, reltol, iteration_limit, mutategp, **kwargs)\u001b[0m\n\u001b[0;32m    117\u001b[0m     \u001b[0mappear\u001b[0m \u001b[0mto\u001b[0m \u001b[0mbe\u001b[0m \u001b[0mconverging\u001b[0m\u001b[1;33m,\u001b[0m \u001b[0myou\u001b[0m \u001b[0mmay\u001b[0m \u001b[0mwish\u001b[0m \u001b[0mto\u001b[0m \u001b[0mincrease\u001b[0m \u001b[0mthe\u001b[0m \u001b[0miteration\u001b[0m \u001b[0mlimit\u001b[0m \u001b[0mby\u001b[0m\u001b[1;33m\u001b[0m\u001b[0m\n\u001b[0;32m    118\u001b[0m     calling .localsolve(..., iteration_limit=NEWLIMIT).\"\"\" % len(self.gps))\n\u001b[1;32m--> 119\u001b[1;33m             \u001b[0mgp\u001b[0m \u001b[1;33m=\u001b[0m \u001b[0mself\u001b[0m\u001b[1;33m.\u001b[0m\u001b[0mgp\u001b[0m\u001b[1;33m(\u001b[0m\u001b[0mx0\u001b[0m\u001b[1;33m,\u001b[0m \u001b[0mmutategp\u001b[0m\u001b[1;33m)\u001b[0m\u001b[1;33m\u001b[0m\u001b[0m\n\u001b[0m\u001b[0;32m    120\u001b[0m             \u001b[0mself\u001b[0m\u001b[1;33m.\u001b[0m\u001b[0mgps\u001b[0m\u001b[1;33m.\u001b[0m\u001b[0mappend\u001b[0m\u001b[1;33m(\u001b[0m\u001b[0mgp\u001b[0m\u001b[1;33m)\u001b[0m  \u001b[1;31m# NOTE: SIDE EFFECTS\u001b[0m\u001b[1;33m\u001b[0m\u001b[0m\n\u001b[0;32m    121\u001b[0m             \u001b[1;32mtry\u001b[0m\u001b[1;33m:\u001b[0m\u001b[1;33m\u001b[0m\u001b[0m\n",
      "\u001b[1;32mC:\\Users\\johan\\Miniconda2\\envs\\gpsat\\lib\\site-packages\\gpkit\\constraints\\sgp.pyc\u001b[0m in \u001b[0;36mgp\u001b[1;34m(self, x0, mutategp)\u001b[0m\n\u001b[0;32m    195\u001b[0m                 \u001b[0mmono_gts\u001b[0m \u001b[1;33m=\u001b[0m \u001b[1;33m[\u001b[0m\u001b[1;33m]\u001b[0m\u001b[1;33m\u001b[0m\u001b[0m\n\u001b[0;32m    196\u001b[0m                 \u001b[1;32mfor\u001b[0m \u001b[0mspc\u001b[0m \u001b[1;32min\u001b[0m \u001b[0mself\u001b[0m\u001b[1;33m.\u001b[0m\u001b[0m_spconstrs\u001b[0m\u001b[1;33m:\u001b[0m\u001b[1;33m\u001b[0m\u001b[0m\n\u001b[1;32m--> 197\u001b[1;33m                     \u001b[0mmono_gts\u001b[0m\u001b[1;33m.\u001b[0m\u001b[0mextend\u001b[0m\u001b[1;33m(\u001b[0m\u001b[0mspc\u001b[0m\u001b[1;33m.\u001b[0m\u001b[0mas_approxsgt\u001b[0m\u001b[1;33m(\u001b[0m\u001b[0mself\u001b[0m\u001b[1;33m.\u001b[0m\u001b[0m_gp\u001b[0m\u001b[1;33m.\u001b[0m\u001b[0mx0\u001b[0m\u001b[1;33m)\u001b[0m\u001b[1;33m)\u001b[0m\u001b[1;33m\u001b[0m\u001b[0m\n\u001b[0m\u001b[0;32m    198\u001b[0m                 \u001b[1;32mfor\u001b[0m \u001b[0mi\u001b[0m\u001b[1;33m,\u001b[0m \u001b[0mmono_gt\u001b[0m \u001b[1;32min\u001b[0m \u001b[0menumerate\u001b[0m\u001b[1;33m(\u001b[0m\u001b[0mmono_gts\u001b[0m\u001b[1;33m)\u001b[0m\u001b[1;33m:\u001b[0m\u001b[1;33m\u001b[0m\u001b[0m\n\u001b[0;32m    199\u001b[0m                     \u001b[0mposy_lt\u001b[0m \u001b[1;33m=\u001b[0m \u001b[0mself\u001b[0m\u001b[1;33m.\u001b[0m\u001b[0m_approx_lt\u001b[0m\u001b[1;33m[\u001b[0m\u001b[0mi\u001b[0m\u001b[1;33m]\u001b[0m\u001b[1;33m\u001b[0m\u001b[0m\n",
      "\u001b[1;32mC:\\Users\\johan\\Miniconda2\\envs\\gpsat\\lib\\site-packages\\gpkit\\nomials\\math.pyc\u001b[0m in \u001b[0;36mas_approxsgt\u001b[1;34m(self, x0)\u001b[0m\n\u001b[0;32m    722\u001b[0m     \u001b[1;32mdef\u001b[0m \u001b[0mas_approxsgt\u001b[0m\u001b[1;33m(\u001b[0m\u001b[0mself\u001b[0m\u001b[1;33m,\u001b[0m \u001b[0mx0\u001b[0m\u001b[1;33m)\u001b[0m\u001b[1;33m:\u001b[0m\u001b[1;33m\u001b[0m\u001b[0m\n\u001b[0;32m    723\u001b[0m         \u001b[1;34m\"Returns monomial-greater-than sides, to be called after as_approxlt1\"\u001b[0m\u001b[1;33m\u001b[0m\u001b[0m\n\u001b[1;32m--> 724\u001b[1;33m         \u001b[1;32mreturn\u001b[0m \u001b[1;33m[\u001b[0m\u001b[0mself\u001b[0m\u001b[1;33m.\u001b[0m\u001b[0m_negy\u001b[0m\u001b[1;33m.\u001b[0m\u001b[0mmono_lower_bound\u001b[0m\u001b[1;33m(\u001b[0m\u001b[0mx0\u001b[0m\u001b[1;33m)\u001b[0m\u001b[1;33m]\u001b[0m\u001b[1;33m\u001b[0m\u001b[0m\n\u001b[0m\u001b[0;32m    725\u001b[0m \u001b[1;33m\u001b[0m\u001b[0m\n\u001b[0;32m    726\u001b[0m \u001b[1;33m\u001b[0m\u001b[0m\n",
      "\u001b[1;32mC:\\Users\\johan\\Miniconda2\\envs\\gpsat\\lib\\site-packages\\gpkit\\nomials\\math.pyc\u001b[0m in \u001b[0;36mmono_lower_bound\u001b[1;34m(self, x0)\u001b[0m\n\u001b[0;32m    273\u001b[0m         \u001b[0mMonomial\u001b[0m\u001b[1;33m\u001b[0m\u001b[0m\n\u001b[0;32m    274\u001b[0m         \"\"\"\n\u001b[1;32m--> 275\u001b[1;33m         \u001b[1;32mreturn\u001b[0m \u001b[0mself\u001b[0m\u001b[1;33m.\u001b[0m\u001b[0mmono_approximation\u001b[0m\u001b[1;33m(\u001b[0m\u001b[0mx0\u001b[0m\u001b[1;33m)\u001b[0m\u001b[1;33m\u001b[0m\u001b[0m\n\u001b[0m\u001b[0;32m    276\u001b[0m \u001b[1;33m\u001b[0m\u001b[0m\n\u001b[0;32m    277\u001b[0m \u001b[1;33m\u001b[0m\u001b[0m\n",
      "\u001b[1;32mC:\\Users\\johan\\Miniconda2\\envs\\gpsat\\lib\\site-packages\\gpkit\\nomials\\math.pyc\u001b[0m in \u001b[0;36mmono_approximation\u001b[1;34m(self, x0)\u001b[0m\n\u001b[0;32m    123\u001b[0m             \u001b[0me\u001b[0m \u001b[1;33m=\u001b[0m \u001b[0mval\u001b[0m\u001b[1;33m*\u001b[0m\u001b[0mdiff\u001b[0m\u001b[1;33m/\u001b[0m\u001b[0mc0\u001b[0m\u001b[1;33m\u001b[0m\u001b[0m\n\u001b[0;32m    124\u001b[0m             \u001b[0mexp\u001b[0m\u001b[1;33m[\u001b[0m\u001b[0mvk\u001b[0m\u001b[1;33m]\u001b[0m \u001b[1;33m=\u001b[0m \u001b[0me\u001b[0m\u001b[1;33m\u001b[0m\u001b[0m\n\u001b[1;32m--> 125\u001b[1;33m             \u001b[0mc\u001b[0m \u001b[1;33m/=\u001b[0m \u001b[0mval\u001b[0m\u001b[1;33m**\u001b[0m\u001b[0me\u001b[0m\u001b[1;33m\u001b[0m\u001b[0m\n\u001b[0m\u001b[0;32m    126\u001b[0m         \u001b[0mhmap\u001b[0m \u001b[1;33m=\u001b[0m \u001b[0mNomialMap\u001b[0m\u001b[1;33m(\u001b[0m\u001b[1;33m{\u001b[0m\u001b[0mexp\u001b[0m\u001b[1;33m:\u001b[0m \u001b[0mc\u001b[0m\u001b[1;33m}\u001b[0m\u001b[1;33m)\u001b[0m\u001b[1;33m\u001b[0m\u001b[0m\n\u001b[0;32m    127\u001b[0m         \u001b[0mhmap\u001b[0m\u001b[1;33m.\u001b[0m\u001b[0munits\u001b[0m \u001b[1;33m=\u001b[0m \u001b[0mself\u001b[0m\u001b[1;33m.\u001b[0m\u001b[0munits\u001b[0m\u001b[1;33m\u001b[0m\u001b[0m\n",
      "\u001b[1;31mOverflowError\u001b[0m: (34, 'Result too large')"
     ]
    }
   ],
   "source": [
    "with gpkit.SignomialsEnabled():\n",
    "    constraints = [\n",
    "        lambda_com == c/f,\n",
    "        G_Rx == eta*(np.pi*D_Rx/lambda_com)**2,\n",
    "        P_suppl == d_f*A*eta_s*Q_s,\n",
    "        P_Tx + P_load <= P_suppl,\n",
    "        EbNo_req == P_Tx*G_Rx*Xp_req*GS_f*P*eta*D_Tx**2/\n",
    "        (L_other*k*T_sys*R_earth*2*np.pi*N*B_ppx*(4*r**2)),\n",
    "        Xp_req == h*lambda_obs/D,\n",
    "        d_f <= GS_f + 0.5,\n",
    "        #a <= h+R_earth,\n",
    "        #a >= Variable(\"amin\", 100, \"km\"),\n",
    "        GS_f <= alpha_1*h/R_earth + alpha_2,\n",
    "        #GS_f**0.133355 <= 0.295066*(h/R_earth)**0.0619879+0.294791*(h/R_earth)**0.061991+\n",
    "        #0.294739 * (h/R_earth)**0.0619928,\n",
    "        #P == 2*np.pi*a**1.5/mu**0.5,\n",
    "        P <= 2*np.pi*(alpha_3*h/R_earth + alpha_4),\n",
    "        r**2 >= h**2 + 2*R_earth*h,\n",
    "        D_rho*D**1.5 + DTx_rho*D_Tx**1.5 + A_rho*A + prop_rho/h + m_extra<= 0.8*m_total\n",
    "        #h >= h_min,\n",
    "        #h <= a+a_const,\n",
    "        #T >= alpha_6*m_p + alpha_5*a\n",
    "    ]\n",
    "m = Model(m_total, Bounded(constraints))\n",
    "#m.substitutions.update(OrderedDict({r:rval, P:p, d_f:df, GS_f:gs_f}))\n",
    "print(m.localsolve().table())"
   ]
  },
  {
   "cell_type": "code",
   "execution_count": null,
   "metadata": {},
   "outputs": [],
   "source": []
  }
 ],
 "metadata": {
  "kernelspec": {
   "display_name": "Python [conda env:gpsat]",
   "language": "python",
   "name": "conda-env-gpsat-py"
  },
  "language_info": {
   "codemirror_mode": {
    "name": "ipython",
    "version": 2
   },
   "file_extension": ".py",
   "mimetype": "text/x-python",
   "name": "python",
   "nbconvert_exporter": "python",
   "pygments_lexer": "ipython2",
   "version": "2.7.13"
  }
 },
 "nbformat": 4,
 "nbformat_minor": 2
}
