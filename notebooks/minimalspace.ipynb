{
 "cells": [
  {
   "cell_type": "code",
   "execution_count": 1,
   "metadata": {},
   "outputs": [],
   "source": [
    "import numpy as np\n",
    "import gpkit\n",
    "import astropy.constants as const\n",
    "from gpkit import Model, Variable\n",
    "from gpkit.nomials.math import SingleSignomialEquality,SignomialInequality\n",
    "from gpkit.constraints.bounded import Bounded\n",
    "gpkit.SIGNOMIALS_ENABLED = True\n",
    "from collections import OrderedDict"
   ]
  },
  {
   "cell_type": "code",
   "execution_count": 51,
   "metadata": {},
   "outputs": [
    {
     "name": "stdout",
     "output_type": "stream",
     "text": [
      "Beginning signomial solve.\n"
     ]
    },
    {
     "name": "stderr",
     "output_type": "stream",
     "text": [
      "ERROR:root:An unexpected error occurred while tokenizing input\n",
      "The following traceback may be corrupted or invalid\n",
      "The error message is: ('EOF in multi-line string', (1, 55))\n",
      "\n"
     ]
    },
    {
     "ename": "RuntimeWarning",
     "evalue": "problem unsolved after 52 iterations.\n\n    The last result is available in Model.program.gps[-1].result. If the gps\n    appear to be converging, you may wish to increase the iteration limit by\n    calling .localsolve(..., iteration_limit=NEWLIMIT).",
     "output_type": "error",
     "traceback": [
      "\u001b[1;31m---------------------------------------------------------------------------\u001b[0m",
      "\u001b[1;31mRuntimeWarning\u001b[0m                            Traceback (most recent call last)",
      "\u001b[1;32m<ipython-input-51-4fd97e5ade1b>\u001b[0m in \u001b[0;36m<module>\u001b[1;34m()\u001b[0m\n\u001b[0;32m     79\u001b[0m ]\n\u001b[0;32m     80\u001b[0m \u001b[0mm\u001b[0m \u001b[1;33m=\u001b[0m \u001b[0mModel\u001b[0m\u001b[1;33m(\u001b[0m\u001b[0mm_total\u001b[0m\u001b[1;33m,\u001b[0m \u001b[0mconstraints\u001b[0m\u001b[1;33m)\u001b[0m\u001b[1;33m\u001b[0m\u001b[0m\n\u001b[1;32m---> 81\u001b[1;33m \u001b[1;32mprint\u001b[0m\u001b[1;33m(\u001b[0m\u001b[0mm\u001b[0m\u001b[1;33m.\u001b[0m\u001b[0mlocalsolve\u001b[0m\u001b[1;33m(\u001b[0m\u001b[1;33m)\u001b[0m\u001b[1;33m.\u001b[0m\u001b[0mtable\u001b[0m\u001b[1;33m(\u001b[0m\u001b[1;33m)\u001b[0m\u001b[1;33m)\u001b[0m\u001b[1;33m\u001b[0m\u001b[0m\n\u001b[0m",
      "\u001b[1;32mC:\\Users\\johan\\Miniconda2\\envs\\gpsat\\lib\\site-packages\\gpkit\\constraints\\prog_factories.pyc\u001b[0m in \u001b[0;36msolvefn\u001b[1;34m(self, solver, verbosity, skipsweepfailures, **kwargs)\u001b[0m\n\u001b[0;32m     78\u001b[0m         \u001b[1;32melse\u001b[0m\u001b[1;33m:\u001b[0m\u001b[1;33m\u001b[0m\u001b[0m\n\u001b[0;32m     79\u001b[0m             \u001b[0mself\u001b[0m\u001b[1;33m.\u001b[0m\u001b[0mprogram\u001b[0m\u001b[1;33m,\u001b[0m \u001b[0mprogsolve\u001b[0m \u001b[1;33m=\u001b[0m \u001b[0mgenfunction\u001b[0m\u001b[1;33m(\u001b[0m\u001b[0mself\u001b[0m\u001b[1;33m)\u001b[0m\u001b[1;33m\u001b[0m\u001b[0m\n\u001b[1;32m---> 80\u001b[1;33m             \u001b[0mresult\u001b[0m \u001b[1;33m=\u001b[0m \u001b[0mprogsolve\u001b[0m\u001b[1;33m(\u001b[0m\u001b[0msolver\u001b[0m\u001b[1;33m,\u001b[0m \u001b[0mverbosity\u001b[0m\u001b[1;33m,\u001b[0m \u001b[1;33m**\u001b[0m\u001b[0mkwargs\u001b[0m\u001b[1;33m)\u001b[0m\u001b[1;33m\u001b[0m\u001b[0m\n\u001b[0m\u001b[0;32m     81\u001b[0m             \u001b[0msolution\u001b[0m\u001b[1;33m.\u001b[0m\u001b[0mappend\u001b[0m\u001b[1;33m(\u001b[0m\u001b[0mresult\u001b[0m\u001b[1;33m)\u001b[0m\u001b[1;33m\u001b[0m\u001b[0m\n\u001b[0;32m     82\u001b[0m         \u001b[0msolution\u001b[0m\u001b[1;33m.\u001b[0m\u001b[0mprogram\u001b[0m \u001b[1;33m=\u001b[0m \u001b[0mself\u001b[0m\u001b[1;33m.\u001b[0m\u001b[0mprogram\u001b[0m\u001b[1;33m\u001b[0m\u001b[0m\n",
      "\u001b[1;32mC:\\Users\\johan\\Miniconda2\\envs\\gpsat\\lib\\site-packages\\gpkit\\constraints\\sgp.pyc\u001b[0m in \u001b[0;36mlocalsolve\u001b[1;34m(self, solver, verbosity, x0, reltol, iteration_limit, mutategp, **kwargs)\u001b[0m\n\u001b[0;32m    116\u001b[0m     \u001b[0mThe\u001b[0m \u001b[0mlast\u001b[0m \u001b[0mresult\u001b[0m \u001b[1;32mis\u001b[0m \u001b[0mavailable\u001b[0m \u001b[1;32min\u001b[0m \u001b[0mModel\u001b[0m\u001b[1;33m.\u001b[0m\u001b[0mprogram\u001b[0m\u001b[1;33m.\u001b[0m\u001b[0mgps\u001b[0m\u001b[1;33m[\u001b[0m\u001b[1;33m-\u001b[0m\u001b[1;36m1\u001b[0m\u001b[1;33m]\u001b[0m\u001b[1;33m.\u001b[0m\u001b[0mresult\u001b[0m\u001b[1;33m.\u001b[0m \u001b[0mIf\u001b[0m \u001b[0mthe\u001b[0m \u001b[0mgps\u001b[0m\u001b[1;33m\u001b[0m\u001b[0m\n\u001b[0;32m    117\u001b[0m     \u001b[0mappear\u001b[0m \u001b[0mto\u001b[0m \u001b[0mbe\u001b[0m \u001b[0mconverging\u001b[0m\u001b[1;33m,\u001b[0m \u001b[0myou\u001b[0m \u001b[0mmay\u001b[0m \u001b[0mwish\u001b[0m \u001b[0mto\u001b[0m \u001b[0mincrease\u001b[0m \u001b[0mthe\u001b[0m \u001b[0miteration\u001b[0m \u001b[0mlimit\u001b[0m \u001b[0mby\u001b[0m\u001b[1;33m\u001b[0m\u001b[0m\n\u001b[1;32m--> 118\u001b[1;33m     calling .localsolve(..., iteration_limit=NEWLIMIT).\"\"\" % len(self.gps))\n\u001b[0m\u001b[0;32m    119\u001b[0m             \u001b[0mgp\u001b[0m \u001b[1;33m=\u001b[0m \u001b[0mself\u001b[0m\u001b[1;33m.\u001b[0m\u001b[0mgp\u001b[0m\u001b[1;33m(\u001b[0m\u001b[0mx0\u001b[0m\u001b[1;33m,\u001b[0m \u001b[0mmutategp\u001b[0m\u001b[1;33m)\u001b[0m\u001b[1;33m\u001b[0m\u001b[0m\n\u001b[0;32m    120\u001b[0m             \u001b[0mself\u001b[0m\u001b[1;33m.\u001b[0m\u001b[0mgps\u001b[0m\u001b[1;33m.\u001b[0m\u001b[0mappend\u001b[0m\u001b[1;33m(\u001b[0m\u001b[0mgp\u001b[0m\u001b[1;33m)\u001b[0m  \u001b[1;31m# NOTE: SIDE EFFECTS\u001b[0m\u001b[1;33m\u001b[0m\u001b[0m\n",
      "\u001b[1;31mRuntimeWarning\u001b[0m: problem unsolved after 52 iterations.\n\n    The last result is available in Model.program.gps[-1].result. If the gps\n    appear to be converging, you may wish to increase the iteration limit by\n    calling .localsolve(..., iteration_limit=NEWLIMIT)."
     ]
    }
   ],
   "source": [
    "muval = 3.98e14\n",
    "alpha_1 = Variable(\"\\\\alpha_1\", 0.6624)\n",
    "alpha_2 = Variable(\"\\\\alpha_2\", 0.06991)\n",
    "alpha_3 = Variable(\"\\\\alpha_3\", 1266.75, \"s\")\n",
    "alpha_4 = Variable(\"\\\\alpha_4\", 804.90, \"s\")\n",
    "\n",
    "R_earth = Variable(\"R_{earth}\", const.R_earth.value, \"m\", \"earth radius\")\n",
    "eta_s = Variable(\"\\\\eta_s\", 0.29, \"-\", \"solar panel efficiency\")\n",
    "Q_s = Variable(\"Q_s\", 1367, \"W/m^2\", \"solar flux constant\")\n",
    "EbNo_req = Variable(\"EbNo_{req}\", 40, \"-\", \"ebno required\")\n",
    "\n",
    "G_Rx = Variable(\"G_{Rx}\", \"-\", \"ground receive gain\")\n",
    "D_Rx = Variable(\"D_{Rx}\", 5.3, \"m\", \"ground receive diamater\")\n",
    "\n",
    "D_Tx = Variable(\"D_{Tx}\", \"m\", \"spacecraft antenna diameter\")\n",
    "L_other = Variable(\"L_{other}\", 9.772372209558107, \"-\", \"line loss\") #1.58489\n",
    "k = Variable(\"k\", const.k_B.value, \"J/K\", \"Boltzman constant R/Na\")\n",
    "T_sys = Variable(\"T_{sys}\", 135, \"K\", \"system temperature\")\n",
    "N = Variable(\"N\", 2000, '-', 'number of pixels along width')\n",
    "B_ppx = Variable(\"B_{ppx}\", 8, \"bit\", \"bit per pixel\")\n",
    "eta = Variable(\"\\\\eta\", 0.55, \"-\", \"dish efficiency\")\n",
    "lambda_obs = Variable(\"\\\\lambda_{obs}\", 500, \"nm\", \"image payload wavelength\")\n",
    "e = Variable(\"e\", 25, 'W/kg', 'power density of solar arrays') \n",
    "A_rho = Variable(\"A_{rho}\", 10, \"kg/m^2\", \"solar panel area density\")\n",
    "\n",
    "f = Variable(\"f\", 2.2, \"GHz\", \"transmit frequency\")\n",
    "lambda_com = Variable(\"\\\\lambda_{com}\", \"m\", \"transmit wavelength\") #fake variable    \n",
    "c = Variable(\"c\", const.c.value, \"m/s\", \"Speed of light in vacuum\")\n",
    "D_rho = Variable(\"D_{rho}\", 100, \"kg/m^1.5\")\n",
    "DTx_rho = Variable(\"DTx_{rho}\", 2, \"kg/m^1.5\")\n",
    "h_min = Variable('h_{min}', 400, 'km', 'minimum orbit altitude')\n",
    "\n",
    "prop_rho = Variable('prop_{rho}', 500, 'kg*km', 'propellant altitude constant')\n",
    "a_const = Variable('a_const', 200, 'km', 'altitude constant')\n",
    "alpha_5 = Variable(\"\\\\alpha_5\", 0.058823529411764705, \"year/km\")\n",
    "alpha_6 = Variable(\"\\\\alpha_6\", 1., \"year/kg\")\n",
    "T = Variable(\"T\", 3, \"year\", \"lifetime\")\n",
    "P_load = Variable(\"P_{load}\", 5, \"W\", \"constant power drain\")\n",
    "m_extra = Variable(\"m_{extra}\", 0.2, \"kg\", \"constant mass\")\n",
    "\n",
    "mu = Variable(\"mu\", muval, \"m^3/s^2\", \"standard gravitational parameter\")\n",
    "\n",
    "####\n",
    "Xp_req = Variable('Xp_{req}', 20, 'm', 'required resolution')\n",
    "m_total = Variable(\"m_{total}\", 'kg', 'spacecraft total mass')\n",
    "h = Variable(\"h\", \"km\", \"orbit altitude\")\n",
    "d_f = Variable(\"d_f\", \"-\", \"not in-eclipse orbit fraction\")\n",
    "P_suppl = Variable(\"P_{suppl}\", \"W\", \"spacecraft total power\")\n",
    "P_Tx = Variable(\"P_{Tx}\", \"W\", \"transmit power\")\n",
    "r = Variable(\"r\", \"km\", \"max distance to ground station\")\n",
    "GS_f = Variable(\"GS_f\", \"-\", \"downlink orbit fraction\")\n",
    "P = Variable(\"P\", \"min\", \"period\")\n",
    "D = Variable(\"D\", \"m\", \"aperture\")\n",
    "A = Variable(\"A\", \"m^2\", \"surface area solar panels\")\n",
    "m_p = Variable(\"m_p\", \"kg\", \"propellant mass\")\n",
    "aa = Variable(\"aa\", \"km\", \"formulation variable for altitude\")\n",
    "amax = Variable(\"amax\", 5000, \"km\")\n",
    "\n",
    "constraints = [\n",
    "    lambda_com == c/f,\n",
    "    G_Rx == eta*(np.pi*D_Rx/lambda_com)**2,\n",
    "    P_suppl == d_f*A*eta_s*Q_s,\n",
    "    P_Tx + P_load <= P_suppl,\n",
    "    EbNo_req == P_Tx*G_Rx*Xp_req*GS_f*P*eta*D_Tx**2/\n",
    "    (L_other*k*T_sys*R_earth*2*np.pi*N*B_ppx*(4*r**2)),\n",
    "    Xp_req == h*lambda_obs/D,\n",
    "    d_f <= GS_f + 0.5,\n",
    "    aa >= R_earth+h,\n",
    "    aa <= amax,\n",
    "    #GS_f <= alpha_1*h/R_earth + alpha_2,\n",
    "    GS_f**0.133355 <= 0.295066*(h/R_earth)**0.0619879+0.294791*(h/R_earth)**0.061991+\n",
    "    0.294739 * (h/R_earth)**0.0619928,\n",
    "    #P == 2*np.pi*a**1.5/mu**0.5,\n",
    "    P <= 2*np.pi*(alpha_3*h/R_earth + alpha_4),\n",
    "    r**2 >= h**2 + 2*R_earth*h,\n",
    "    D_rho*D**1.5 + DTx_rho*D_Tx**1.5 + A_rho*A + prop_rho/h + m_extra<= 0.8*m_total\n",
    "    #h >= h_min,\n",
    "    #T >= alpha_6*m_p + alpha_5*a\n",
    "]\n",
    "m = Model(m_total, constraints)\n",
    "print(m.localsolve().table())"
   ]
  }
 ],
 "metadata": {
  "kernelspec": {
   "display_name": "Python [conda env:gpsat]",
   "language": "python",
   "name": "conda-env-gpsat-py"
  },
  "language_info": {
   "codemirror_mode": {
    "name": "ipython",
    "version": 2
   },
   "file_extension": ".py",
   "mimetype": "text/x-python",
   "name": "python",
   "nbconvert_exporter": "python",
   "pygments_lexer": "ipython2",
   "version": "2.7.13"
  }
 },
 "nbformat": 4,
 "nbformat_minor": 2
}
