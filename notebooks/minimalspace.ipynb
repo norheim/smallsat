{
 "cells": [
  {
   "cell_type": "code",
   "execution_count": 18,
   "metadata": {
    "collapsed": true
   },
   "outputs": [],
   "source": [
    "import numpy as np\n",
    "import gpkit\n",
    "import astropy.constants as const\n",
    "import matplotlib.pyplot as plt\n",
    "from gpkit import Model, Variable\n",
    "from gpkit.nomials.math import SingleSignomialEquality,SignomialInequality\n",
    "from gpkit.constraints.bounded import Bounded\n",
    "gpkit.SIGNOMIALS_ENABLED = True\n",
    "from collections import OrderedDict"
   ]
  },
  {
   "cell_type": "code",
   "execution_count": 14,
   "metadata": {},
   "outputs": [],
   "source": [
    "muval = 3.986005e14\n",
    "alpha_1 = Variable(\"\\\\alpha_1\", 0.6624)\n",
    "alpha_2 = Variable(\"\\\\alpha_2\", 0.06991)\n",
    "alpha_3 = Variable(\"\\\\alpha_3\", 1266.75, \"s\")\n",
    "alpha_4 = Variable(\"\\\\alpha_4\", 804.90, \"s\")\n",
    "\n",
    "R_earth = Variable(\"R_{earth}\", const.R_earth.value/1000, \"km\", \"earth radius\")\n",
    "eta_s = Variable(\"\\\\eta_s\", 0.29, \"-\", \"solar panel efficiency\")\n",
    "Q_s = Variable(\"Q_s\", 1367, \"W/m^2\", \"solar flux constant\")\n",
    "EbNo_req = Variable(\"EbNo_{req}\", 40, \"-\", \"ebno required\")\n",
    "\n",
    "G_Rx = Variable(\"G_{Rx}\", \"-\", \"ground receive gain\")\n",
    "D_Rx = Variable(\"D_{Rx}\", 5.3, \"m\", \"ground receive diamater\")\n",
    "\n",
    "D_Tx = Variable(\"D_{Tx}\", \"m\", \"spacecraft antenna diameter\")\n",
    "L_other = Variable(\"L_{other}\", 9.772372209558107, \"-\", \"line loss\") #1.58489\n",
    "k = Variable(\"k\", const.k_B.value, \"J/K\", \"Boltzman constant R/Na\")\n",
    "T_sys = Variable(\"T_{sys}\", 135, \"K\", \"system temperature\")\n",
    "N = Variable(\"N\", 2000, '-', 'number of pixels along width')\n",
    "B_ppx = Variable(\"B_{ppx}\", 8, \"bit\", \"bit per pixel\")\n",
    "eta = Variable(\"\\\\eta\", 0.55, \"-\", \"dish efficiency\")\n",
    "lambda_obs = Variable(\"\\\\lambda_{obs}\", 500, \"nm\", \"image payload wavelength\")\n",
    "e = Variable(\"e\", 25, 'W/kg', 'power density of solar arrays') \n",
    "A_rho = Variable(\"A_{rho}\", 10, \"kg/m^2\", \"solar panel area density\")\n",
    "\n",
    "f = Variable(\"f\", 2.2, \"GHz\", \"transmit frequency\")\n",
    "lambda_com = Variable(\"\\\\lambda_{com}\", \"m\", \"transmit wavelength\") #fake variable    \n",
    "c = Variable(\"c\", const.c.value, \"m/s\", \"Speed of light in vacuum\")\n",
    "D_rho = Variable(\"D_{rho}\", 100, \"kg/m^1.5\")\n",
    "DTx_rho = Variable(\"DTx_{rho}\", 2, \"kg/m^1.5\")\n",
    "h_min = Variable('h_{min}', 400, 'km', 'minimum orbit altitude')\n",
    "\n",
    "prop_rho = Variable('prop_{rho}', 500, 'kg*km', 'propellant altitude constant')\n",
    "a_const = Variable('a_const', 200, 'km', 'altitude constant')\n",
    "alpha_5 = Variable(\"\\\\alpha_5\", 0.058823529411764705, \"year/km\")\n",
    "alpha_6 = Variable(\"\\\\alpha_6\", 1., \"year/kg\")\n",
    "T = Variable(\"T\", 3, \"year\", \"lifetime\")\n",
    "P_load = Variable(\"P_{load}\", 5, \"W\", \"constant power drain\")\n",
    "m_extra = Variable(\"m_{extra}\", 0.2, \"kg\", \"constant mass\")\n",
    "\n",
    "mu = Variable(\"mu\", muval, \"m^3/s^2\", \"standard gravitational parameter\")\n",
    "\n",
    "####\n",
    "Xp_req = Variable('Xp_{req}', 20, 'm', 'required resolution')\n",
    "m_total = Variable(\"m_{total}\", 'kg', 'spacecraft total mass')\n",
    "h = Variable(\"h\", \"km\", \"orbit altitude\")\n",
    "d_f = Variable(\"d_f\", \"-\", \"not in-eclipse orbit fraction\")\n",
    "e_f = Variable(\"e_f\", \"-\", \"in-eclipse orbit fraction\")\n",
    "P_suppl = Variable(\"P_{suppl}\", \"W\", \"spacecraft total power\")\n",
    "P_Tx = Variable(\"P_{Tx}\", \"W\", \"transmit power\")\n",
    "r = Variable(\"r\", \"km\", \"max distance to ground station\")\n",
    "GS_f = Variable(\"GS_f\", \"-\", \"downlink orbit fraction\")\n",
    "P = Variable(\"P\", \"min\", \"period\")\n",
    "P2 = Variable(\"P2\", \"min\", \"actual period\")\n",
    "D = Variable(\"D\", \"m\", \"aperture\")\n",
    "A = Variable(\"A\", \"m^2\", \"surface area solar panels\")\n",
    "m_p = Variable(\"m_p\", \"kg\", \"propellant mass\")\n",
    "E_battery = Variable(\"E_{battery}\", \"J\", \"battery energy\")\n",
    "battery_rho = Variable(\"b_{rho}\", 0.1, \"kg/kJ\")\n",
    "\n",
    "a = Variable(\"a\", \"km\", \"orbit semi-major axis\")\n",
    "dummy = Variable(\"dummy\", \"km\", \"formulation variable for altitude\")\n",
    "dummy_bound = Variable(\"dummy_{bound}\", 6790, \"km\")\n",
    "\n",
    "constraints = [\n",
    "    lambda_com == c/f,\n",
    "    G_Rx == eta*(np.pi*D_Rx/lambda_com)**2,\n",
    "    P_suppl == d_f*A*eta_s*Q_s,\n",
    "    P_Tx + P_load <= P_suppl,\n",
    "    E_battery >= P_suppl*e_f*P,\n",
    "    EbNo_req == P_Tx*G_Rx*Xp_req*GS_f*P*eta*D_Tx**2/\n",
    "    (L_other*k*T_sys*R_earth*2*np.pi*N*B_ppx*(4*r**2)),\n",
    "    Xp_req == h*lambda_obs/D,\n",
    "    e_f >= 1-d_f,\n",
    "    d_f <= GS_f + 0.5,\n",
    "    a <= R_earth+h,\n",
    "    #GS_f <= alpha_1*h/R_earth + alpha_2,\n",
    "    GS_f**0.133355 <= 0.295066*(h/R_earth)**0.0619879+0.294791*(h/R_earth)**0.061991+\n",
    "    0.294739 * (h/R_earth)**0.0619928,\n",
    "    P == 2*np.pi*(a**3/mu)**0.5,\n",
    "    r**2 >= h**2 + 2*R_earth*h,\n",
    "    battery_rho*E_battery+D_rho*D**1.5 + DTx_rho*D_Tx**1.5 + \n",
    "    A_rho*A + prop_rho/h + m_extra<= 0.8*m_total\n",
    "    #h >= h_min,\n",
    "    #T >= alpha_6*m_p + alpha_5*a\n",
    "]"
   ]
  },
  {
   "cell_type": "code",
   "execution_count": 22,
   "metadata": {},
   "outputs": [
    {
     "name": "stdout",
     "output_type": "stream",
     "text": [
      "Solving over 50 passes.\n",
      "Sweeping took 18.5 seconds.\n"
     ]
    }
   ],
   "source": [
    "m = Model(m_total, Bounded(constraints))\n",
    "m.substitutions.update({'Xp_{req}':('sweep', np.linspace(5, 50,50))})\n",
    "sol = m.localsolve()"
   ]
  },
  {
   "cell_type": "code",
   "execution_count": 24,
   "metadata": {},
   "outputs": [
    {
     "data": {
      "image/png": "[encoded data removed]",
      "text/plain": [
       "<matplotlib.figure.Figure at 0x953c7b8>"
      ]
     },
     "metadata": {},
     "output_type": "display_data"
    }
   ],
   "source": [
    "plt.plot(sol[\"variables\"][\"Xp_{req}\"], sol[\"variables\"][\"m_{total}\"])\n",
    "plt.xlabel('resolution (m)')\n",
    "plt.ylabel('satellite total mass (kg)')\n",
    "plt.title('Pareto front between total mass and resolution')\n",
    "plt.show()"
   ]
  },
  {
   "cell_type": "code",
   "execution_count": null,
   "metadata": {},
   "outputs": [],
   "source": []
  }
 ],
 "metadata": {
  "kernelspec": {
   "display_name": "Python [conda env:gpsat]",
   "language": "python",
   "name": "conda-env-gpsat-py"
  },
  "language_info": {
   "codemirror_mode": {
    "name": "ipython",
    "version": 2
   },
   "file_extension": ".py",
   "mimetype": "text/x-python",
   "name": "python",
   "nbconvert_exporter": "python",
   "pygments_lexer": "ipython2",
   "version": "2.7.13"
  }
 },
 "nbformat": 4,
 "nbformat_minor": 2
}
