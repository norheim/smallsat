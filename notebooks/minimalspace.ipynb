{
 "cells": [
  {
   "cell_type": "code",
   "execution_count": 1,
   "metadata": {
    "collapsed": true
   },
   "outputs": [],
   "source": [
    "import numpy as np\n",
    "import gpkit\n",
    "import astropy.constants as const\n",
    "import matplotlib.pyplot as plt\n",
    "from gpkit import Model, Variable\n",
    "from gpkit.nomials.math import SingleSignomialEquality,SignomialInequality\n",
    "from gpkit.constraints.bounded import Bounded\n",
    "gpkit.SIGNOMIALS_ENABLED = True\n",
    "from collections import OrderedDict"
   ]
  },
  {
   "cell_type": "code",
   "execution_count": 4,
   "metadata": {},
   "outputs": [],
   "source": [
    "muval = 3.986005e14\n",
    "alpha_1 = 0.1399851\n",
    "gamma_1 = 0.464835\n",
    "\n",
    "R = Variable(\"R\", const.R_earth.value/1000, \"km\", \"earth radius\")\n",
    "eta_A = Variable(\"\\\\eta_A\", 0.29, \"-\", \"solar panel efficiency\")\n",
    "Q = Variable(\"Q\", 1367, \"W/m^2\", \"solar flux constant\")\n",
    "EN = Variable(\"EN\", 40, \"-\", \"ebno required\")\n",
    "D_r = Variable(\"D_r\", 5.3, \"m\", \"ground receive diamater\")\n",
    "G_r = Variable(\"G_r\", \"-\", \"ground receive gain\")\n",
    "L = Variable(\"L\", 9.772372209558107, \"-\", \"line loss\") #1.58489\n",
    "k = Variable(\"k\", const.k_B.value, \"J/K\", \"Boltzman constant R/Na\")\n",
    "T_s = Variable(\"T_s\", 135, \"K\", \"system temperature\")\n",
    "B = Variable(\"B\", 8, \"bit\", \"bit per pixel\")\n",
    "N = Variable(\"N\", 2000, '-', 'number of pixels along width')\n",
    "eta = Variable(\"\\\\eta\", 0.55, \"-\", \"dish efficiency\")\n",
    "lambda_v = Variable(\"\\\\lambda_{v}\", 500, \"nm\", \"image payload wavelength\")\n",
    "f = Variable(\"f\", 2.2, \"GHz\", \"transmit frequency\")\n",
    "c = Variable(\"c\", const.c.value, \"m/s\", \"Speed of light in vacuum\")\n",
    "lambda_c = Variable(\"\\\\lambda_{c}\", \"m\", \"transmit wavelength\") #fake variable    \n",
    "\n",
    "rho_A = Variable(\"\\\\rho_A\", 10, \"kg/m^2\", \"solar panel area density\")\n",
    "rho_p = Variable(\"\\\\rho_p\", 100, \"kg/m^1.5\")\n",
    "rho_T = Variable(\"\\\\rho_T\", 2, \"kg/m^1.5\")\n",
    "rho_P = Variable(\"\\\\rho_P\", 500, \"kg*km\", 'propellant altitude constant')\n",
    "rho_b = Variable(\"\\\\rho_b\", 0.1, \"kg/kJ\")\n",
    "\n",
    "P_l = Variable(\"P_{l}\", 5, \"W\", \"constant power drain\")\n",
    "\n",
    "X_r = Variable('X_r', 20, 'm', 'required resolution')\n",
    "m_c = Variable(\"m_c\", 0.2, \"kg\", \"constant mass\")\n",
    "eta_S = Variable(\"\\\\eta_S\", 0.2, \"-\", \"structural mass percentage\")\n",
    "\n",
    "mu = Variable(\"mu\", muval, \"m^3/s^2\", \"standard gravitational parameter\")\n",
    "\n",
    "####\n",
    "D_p = Variable(\"D_p\", \"m\", \"aperture\")\n",
    "D_T = Variable(\"D_T\", \"m\", \"spacecraft antenna diameter\")\n",
    "A = Variable(\"A\", \"m^2\", \"surface area solar panels\")\n",
    "\n",
    "m_t = Variable(\"m_t\", 'kg', 'spacecraft total mass')\n",
    "m_b = Variable(\"m_b\", 'kg', 'battery mass')\n",
    "m_A = Variable(\"m_A\", 'kg', 'solar panel mass')\n",
    "m_p = Variable(\"m_p\", 'kg', 'payload mass')\n",
    "m_T = Variable(\"m_T\", 'kg', 'transmission mass')\n",
    "m_S = Variable(\"m_S\", 'kg', 'structural mass')\n",
    "m_P = Variable(\"m_P\", 'kg', 'propulsion mass')\n",
    "\n",
    "P_t = Variable(\"P_t\", \"W\", \"total power\")\n",
    "P_A = Variable(\"P_A\", \"W\", \"solar panel power\")\n",
    "P_T = Variable(\"P_T\", \"W\", \"transmit power\")\n",
    "E_b = Variable(\"E_b\", \"J\", \"battery energy\")\n",
    "\n",
    "h = Variable(\"h\", \"km\", \"orbit altitude\")\n",
    "a = Variable(\"a\", \"km\", \"orbit semi-major axis\")\n",
    "r = Variable(\"r\", \"km\", \"max distance to ground station\")\n",
    "T = Variable(\"T\", \"min\", \"period\")\n",
    "d = Variable(\"d\", \"-\", \"not in-eclipse orbit fraction\")\n",
    "e = Variable(\"e\", \"-\", \"in-eclipse orbit fraction\")\n",
    "g = Variable(\"g\", \"-\", \"downlink orbit fraction\")\n",
    "\n",
    "constraints = [\n",
    "    lambda_c == c/f,\n",
    "    G_r == eta*(np.pi*D_r/lambda_c)**2,\n",
    "    P_A == A*eta_A*Q,\n",
    "    P_A == P_t/d, \n",
    "    P_T + P_l <= P_t,\n",
    "    E_b >= P_A*e*T,\n",
    "    EN == P_T*G_r*X_r*g*T*eta*D_T**2/(L*k*T_s*R*2*np.pi*N*B*(4*r**2)),\n",
    "    X_r == h*lambda_v/D_p,\n",
    "    e >= 1-d,\n",
    "    d <= g + 0.5,\n",
    "    a >= R+h,\n",
    "    g == alpha_1*(h/R)**gamma_1,\n",
    "    #g**0.133355 <= 0.295066*(h/R)**0.0619879+0.294791*(h/R)**0.061991+\n",
    "    #0.294739 * (h/R)**0.0619928,\n",
    "    T == 2*np.pi*(a**3/mu)**0.5,\n",
    "    r**2 >= h**2 + 2*R*h,\n",
    "    m_b == rho_b*E_b,\n",
    "    m_p == rho_p*D_p**1.5,\n",
    "    m_A == rho_A*A,\n",
    "    m_T == rho_T*D_T**1.5,\n",
    "    m_P == rho_P/h,\n",
    "    m_S == eta_S*m_t,\n",
    "    m_b+m_p+m_A+m_T+m_P+m_S+m_c <= m_t\n",
    "]"
   ]
  },
  {
   "cell_type": "code",
   "execution_count": null,
   "metadata": {},
   "outputs": [],
   "source": []
  },
  {
   "cell_type": "code",
   "execution_count": 5,
   "metadata": {},
   "outputs": [
    {
     "name": "stdout",
     "output_type": "stream",
     "text": [
      "Beginning signomial solve.\n",
      "Solving took 5 GP solves and 0.722 seconds.\n"
     ]
    }
   ],
   "source": [
    "m = Model(m_t, Bounded(constraints))\n",
    "#m.substitutions.update({'Xp_{req}':('sweep', np.linspace(5, 50,50))})\n",
    "sol = m.localsolve()"
   ]
  },
  {
   "cell_type": "code",
   "execution_count": 6,
   "metadata": {},
   "outputs": [
    {
     "name": "stdout",
     "output_type": "stream",
     "text": [
      "\n",
      "Cost\n",
      "----\n",
      " 7.079 [kg] \n",
      "\n",
      "Free Variables\n",
      "--------------\n",
      "          A : 0.02987   [m**2] surface area solar panels\n",
      "        D_T : 0.6502    [m]    spacecraft antenna diameter\n",
      "        D_p : 0.01592   [m]    aperture\n",
      "        E_b : 3.13e+04  [J]    battery energy\n",
      "        G_r : 8211             ground receive gain\n",
      "        P_A : 11.84     [W]    solar panel power\n",
      "        P_T : 1.488     [W]    transmit power\n",
      "        P_t : 6.488     [W]    total power\n",
      "          T : 97.45     [min]  period\n",
      "\\lambda_{c} : 0.1363    [m]    transmit wavelength\n",
      "          a : 7015      [km]   orbit semi-major axis\n",
      "          d : 0.548            not in-eclipse orbit fraction\n",
      "          e : 0.452            in-eclipse orbit fraction\n",
      "          g : 0.04796          downlink orbit fraction\n",
      "          h : 636.8     [km]   orbit altitude\n",
      "        m_A : 0.2987    [kg]   solar panel mass\n",
      "        m_P : 0.7852    [kg]   propulsion mass\n",
      "        m_S : 1.416     [kg]   structural mass\n",
      "        m_T : 1.048     [kg]   transmission mass\n",
      "        m_b : 3.13      [kg]   battery mass\n",
      "        m_p : 0.2009    [kg]   payload mass\n",
      "        m_t : 7.079     [kg]   spacecraft total mass\n",
      "          r : 2920      [km]   max distance to ground station\n",
      "\n",
      "Constants\n",
      "---------\n",
      "          B : 8          [bit]       bit per pixel\n",
      "        D_r : 5.3        [m]         ground receive diamater\n",
      "         EN : 40                     ebno required\n",
      "          L : 9.772                  line loss\n",
      "          N : 2000                   number of pixels along width\n",
      "      P_{l} : 5          [W]         constant power drain\n",
      "          Q : 1367       [W/m**2]    solar flux constant\n",
      "          R : 6378       [km]        earth radius\n",
      "        T_s : 135        [K]         system temperature\n",
      "        X_r : 20         [m]         required resolution\n",
      "       \\eta : 0.55                   dish efficiency\n",
      "     \\eta_A : 0.29                   solar panel efficiency\n",
      "     \\eta_S : 0.2                    structural mass percentage\n",
      "\\lambda_{v} : 500        [nm]        image payload wavelength\n",
      "     \\rho_A : 10         [kg/m**2]   solar panel area density\n",
      "     \\rho_P : 500        [kg*km]     propellant altitude constant\n",
      "     \\rho_T : 2          [kg/m**1.5]\n",
      "     \\rho_b : 0.1        [kg/kJ]\n",
      "     \\rho_p : 100        [kg/m**1.5]\n",
      "          c : 2.998e+08  [m/s]       Speed of light in vacuum\n",
      "          f : 2.2        [GHz]       transmit frequency\n",
      "          k : 1.381e-23  [J/K]       Boltzman constant R/Na\n",
      "        m_c : 0.2        [kg]        constant mass\n",
      "         mu : 3.986e+14  [m**3/s**2] standard gravitational parameter\n",
      "\n",
      "Sensitivities\n",
      "-------------\n",
      "          R : +0.95  earth radius\n",
      "     \\rho_b : +0.55\n",
      "      P_{l} : +0.47  constant power drain\n",
      "          c : +0.28  Speed of light in vacuum\n",
      "        D_r : -0.28  ground receive diamater\n",
      "       \\eta : -0.28  dish efficiency\n",
      "          f : -0.28  transmit frequency\n",
      "     \\eta_S : +0.25  structural mass percentage\n",
      "         mu : -0.21  standard gravitational parameter\n",
      "        X_r : -0.19  required resolution\n",
      "     \\rho_T : +0.19\n",
      "          B : +0.14  bit per pixel\n",
      "         EN : +0.14  ebno required\n",
      "          L : +0.14  line loss\n",
      "          N : +0.14  number of pixels along width\n",
      "        T_s : +0.14  system temperature\n",
      "          k : +0.14  Boltzman constant R/Na\n",
      "     \\rho_P : +0.14  propellant altitude constant\n",
      "\\lambda_{v} : +0.053 image payload wavelength\n",
      "     \\rho_A : +0.053 solar panel area density\n",
      "          Q : -0.053 solar flux constant\n",
      "     \\eta_A : -0.053 solar panel efficiency\n",
      "     \\rho_p : +0.035\n",
      "        m_c : +0.035 constant mass\n",
      "\n"
     ]
    }
   ],
   "source": [
    "print(sol.table())"
   ]
  },
  {
   "cell_type": "code",
   "execution_count": 25,
   "metadata": {},
   "outputs": [
    {
     "data": {
      "image/png": "[encoded data removed]",
      "text/plain": [
       "<matplotlib.figure.Figure at 0xa98e908>"
      ]
     },
     "metadata": {},
     "output_type": "display_data"
    }
   ],
   "source": [
    "plt.plot(sol[\"variables\"][\"Xp_{req}\"], sol[\"variables\"][\"m_{total}\"])\n",
    "plt.xlabel('resolution (m)')\n",
    "plt.ylabel('satellite total mass (kg)')\n",
    "plt.title('Pareto front between total mass and resolution')\n",
    "plt.show()"
   ]
  },
  {
   "cell_type": "code",
   "execution_count": null,
   "metadata": {},
   "outputs": [],
   "source": []
  }
 ],
 "metadata": {
  "kernelspec": {
   "display_name": "Python [conda env:gpsat]",
   "language": "python",
   "name": "conda-env-gpsat-py"
  },
  "language_info": {
   "codemirror_mode": {
    "name": "ipython",
    "version": 2
   },
   "file_extension": ".py",
   "mimetype": "text/x-python",
   "name": "python",
   "nbconvert_exporter": "python",
   "pygments_lexer": "ipython2",
   "version": "2.7.13"
  }
 },
 "nbformat": 4,
 "nbformat_minor": 2
}
