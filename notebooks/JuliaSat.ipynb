{
 "cells": [
  {
   "cell_type": "code",
   "execution_count": 1,
   "metadata": {},
   "outputs": [],
   "source": [
    "# Define data\n",
    "α_1 = 0.4009298\n",
    "γ_1 = 0.464835\n",
    "R = 6378*1000. #m \n",
    "η_A = 0.29\n",
    "Q = 1367. #W/m^2\n",
    "EN = 40\n",
    "D_r = 5.3 #m\n",
    "L = 9.777 \n",
    "k = 1.38064852e-23 #J/K Boltzman constant R/Na\n",
    "T_s = 135. #K\n",
    "B = 8.\n",
    "N = 2000. # pixel width\n",
    "η = 0.55\n",
    "λ_v = 500e-9 #nm\n",
    "f = 2.2e9 #Hz\n",
    "c = 3e8  #m/s\n",
    "λ_c = c/f\n",
    "G_r = η*(π*D_r/λ_c)^2\n",
    "ρ_A = 10. #kg/m^2\n",
    "ρ_p = 100. #kg/m^1.5\n",
    "ρ_T = 2. #kg/m^1.5\n",
    "ρ_P = 500.*1000 #kg*km\n",
    "ρ_b = 0.0001 #kg/J\n",
    "P_l = 5 #W\n",
    "μ = 3.986005e14 # m^3/s^2 standard gravitational parameter\n",
    "X_r = 20. #m/px\n",
    "m_c = 0.2 #kg, some required weight\n",
    "η_S = 0.2 # 20% of total mass is structural mass\n",
    ";"
   ]
  },
  {
   "cell_type": "code",
   "execution_count": 2,
   "metadata": {},
   "outputs": [],
   "source": [
    "sD_p = 0.025903142126747384\n",
    "sD_T = 0.45294154570683576\n",
    "sA = 0.023702138567413843\n",
    "sm_t = 4.878403428287764\n",
    "sm_b = 1.95657129093823\n",
    "sm_A = 0.23702136363256185\n",
    "sm_p = 0.41689666235172684\n",
    "sm_T = 0.60966771484270366\n",
    "sm_S = 0.97568107830481066 # structural mass\n",
    "sm_P = 0.48256714850501831\n",
    "sP_t = 9.3962436715381017\n",
    "sP_T = 1.3167071017983942 \n",
    "sE_b = 19565.713457688278\n",
    "sh = 1036124.9254905024\n",
    "sa = 7414226.9926438555\n",
    "sT = 6353.4519745674825\n",
    "sr = 3780286.1998746251\n",
    "sd = 0.67225899734205319\n",
    "se = 0.32774185759103097\n",
    "sg = 0.17225970984913666;"
   ]
  },
  {
   "cell_type": "code",
   "execution_count": 3,
   "metadata": {},
   "outputs": [
    {
     "data": {
      "text/plain": [
       "(9.396243671538102, 9.396238792279869)"
      ]
     },
     "execution_count": 3,
     "metadata": {},
     "output_type": "execute_result"
    }
   ],
   "source": [
    "sP_t, sA*η_A*Q "
   ]
  },
  {
   "cell_type": "code",
   "execution_count": 4,
   "metadata": {},
   "outputs": [
    {
     "data": {
      "text/plain": [
       "(6.316707101798395, 6.316709349409817)"
      ]
     },
     "execution_count": 4,
     "metadata": {},
     "output_type": "execute_result"
    }
   ],
   "source": [
    "sP_T+P_l,sd*sP_t"
   ]
  },
  {
   "cell_type": "code",
   "execution_count": 5,
   "metadata": {},
   "outputs": [
    {
     "data": {
      "text/plain": [
       "(19565.713457688278, 19565.72445796789)"
      ]
     },
     "execution_count": 5,
     "metadata": {},
     "output_type": "execute_result"
    }
   ],
   "source": [
    "sE_b,sP_t*se*sT"
   ]
  },
  {
   "cell_type": "code",
   "execution_count": 6,
   "metadata": {},
   "outputs": [
    {
     "data": {
      "text/plain": [
       "(2.671629471818256e7, 2.6667153937523004e7)"
      ]
     },
     "execution_count": 6,
     "metadata": {},
     "output_type": "execute_result"
    }
   ],
   "source": [
    "EN*L*k*T_s*R*2*π*N*B*4*sr^2, sP_T*G_r*X_r*sg*sT*η*sD_T^2"
   ]
  },
  {
   "cell_type": "code",
   "execution_count": 7,
   "metadata": {},
   "outputs": [
    {
     "data": {
      "text/plain": [
       "(0.5180628425349477, 0.5180624627452511)"
      ]
     },
     "execution_count": 7,
     "metadata": {},
     "output_type": "execute_result"
    }
   ],
   "source": [
    "X_r*sD_p, sh*λ_v"
   ]
  },
  {
   "cell_type": "code",
   "execution_count": 8,
   "metadata": {},
   "outputs": [
    {
     "data": {
      "text/plain": [
       "(7.4142269926438555e6, 7.414124925490502e6)"
      ]
     },
     "execution_count": 8,
     "metadata": {},
     "output_type": "execute_result"
    }
   ],
   "source": [
    "sa, R + sh"
   ]
  },
  {
   "cell_type": "code",
   "execution_count": 9,
   "metadata": {},
   "outputs": [
    {
     "data": {
      "text/plain": [
       "(0.17225970984913666, 0.17226097631835688)"
      ]
     },
     "execution_count": 9,
     "metadata": {},
     "output_type": "execute_result"
    }
   ],
   "source": [
    "sg, α_1*sh^γ_1*R^(-γ_1)"
   ]
  },
  {
   "cell_type": "code",
   "execution_count": 10,
   "metadata": {},
   "outputs": [
    {
     "data": {
      "text/plain": [
       "(6353.4519745674825, 6353.452188119963)"
      ]
     },
     "execution_count": 10,
     "metadata": {},
     "output_type": "execute_result"
    }
   ],
   "source": [
    "sT, 2*π*sa^(3/2)*μ^(-1/2)"
   ]
  },
  {
   "cell_type": "code",
   "execution_count": 11,
   "metadata": {},
   "outputs": [
    {
     "data": {
      "text/plain": [
       "(1.4290563752962533e13, 1.4290364410779547e13)"
      ]
     },
     "execution_count": 11,
     "metadata": {},
     "output_type": "execute_result"
    }
   ],
   "source": [
    "sr^2, sh^2 + 2*R*sh "
   ]
  },
  {
   "cell_type": "code",
   "execution_count": 12,
   "metadata": {},
   "outputs": [
    {
     "data": {
      "text/plain": [
       "((1.95657129093823, 1.9565713457688279), (0.41689666235172684, 0.41689690664827783), (0.23702136363256185, 0.23702138567413844), (0.6096677148427037, 0.6096677639575033), (0.4825671485050183, 0.482567292513786), (0.9756810783048107, 0.9756806856575528), (4.878403428287764, 4.678405258575052))"
      ]
     },
     "execution_count": 12,
     "metadata": {},
     "output_type": "execute_result"
    }
   ],
   "source": [
    "(sm_b,ρ_b*sE_b), (sm_p,ρ_p*sD_p^1.5), (sm_A,ρ_A*sA),\n",
    "(sm_T,ρ_T*sD_T^1.5), (sm_P,ρ_P/sh), (sm_S,η_S*sm_t),\n",
    "(sm_t,sm_b+sm_p+sm_A+sm_T +sm_P +sm_S)"
   ]
  },
  {
   "cell_type": "code",
   "execution_count": 13,
   "metadata": {},
   "outputs": [],
   "source": [
    "using Ipopt\n",
    "solver = IpoptSolver(print_level=0)\n",
    "method = :LogSumExp;"
   ]
  },
  {
   "cell_type": "code",
   "execution_count": 14,
   "metadata": {},
   "outputs": [],
   "source": [
    "using JuMP\n",
    "using JuGP"
   ]
  },
  {
   "cell_type": "code",
   "execution_count": 15,
   "metadata": {},
   "outputs": [],
   "source": [
    "using ECOS\n",
    "solver = ECOSSolver(verbose=true)\n",
    "method = :Conic;"
   ]
  },
  {
   "cell_type": "code",
   "execution_count": 18,
   "metadata": {},
   "outputs": [],
   "source": [
    "# Define JuMP model\n",
    "m = GPModel(method=method, solver=solver)\n",
    "\n",
    "@variables m begin\n",
    "    0 <= D_p <= 0.5 # payload optical aperture diameter\n",
    "    0 <= D_T <= 1.0 # transmitter antenna diameter\n",
    "    0 <= A <= 0.1 # solar panel surface area\n",
    "\n",
    "    # Mass related parameters\n",
    "    0 <= m_t <= 10. # total\n",
    "    0 <= m_b <= 10. # battery mass\n",
    "    0 <= m_A <= 10. # solar panel mass\n",
    "    0 <= m_p <= 10. # payload mass\n",
    "    0 <= m_T <= 10. # transmitter mass\n",
    "    0 <= m_S <= 10. # structural mass\n",
    "    0 <= m_P <= 10. # propulsion mass\n",
    "\n",
    "    # Power related parameters\n",
    "    0 <= P_t <= 100. # total power\n",
    "    0 <= P_T <= 100. # transmitter power\n",
    "    0 <= E_b <= 100000. # battery energy\n",
    "\n",
    "    # Orbit related parameters\n",
    "    100000. <= h <= 2000000. # altitude\n",
    "    R+100000. <= a <= 2000000.+R # semi-major axis\n",
    "    5000. <= T <= 10000. # orbit period \n",
    "    100000. <= r <= 5000000. # worst case communications distance\n",
    "    0 <= d <= 1. # daylight fraction of orbit\n",
    "    0 <= e <= 1. # eclipse faction of orbit\n",
    "    0 <= g <= 10000. # ground station viewing fraction of orbit\n",
    "end\n",
    "\n",
    "# TODO some of these may be better defined as NLexpressions\n",
    "@NLconstraints m begin\n",
    "    # Power and communications\n",
    "    P_t == A*η_A*Q # all power generated by solar panel\n",
    "    P_T + P_l <= d*P_t\n",
    "    E_b >= P_t*e*T\n",
    "    EN*L*k*T_s*R*2*π*N*B*4*r^2 == P_T*G_r*X_r*g*T*η*D_T^2\n",
    "\n",
    "    # Payload performance\n",
    "    X_r*D_p == h*λ_v\n",
    "\n",
    "    # Orbit\n",
    "#     e >= 1 - d\n",
    "#     d <= g + 0.5\n",
    "    a >= R + h\n",
    "    g == α_1*h^γ_1*R^(-γ_1)\n",
    "    T == 2*π*a^(3/2)*μ^(-1/2)\n",
    "    r^2 >= h^2 + 2*R*h \n",
    "\n",
    "    # Mass budgets\n",
    "    m_b == ρ_b*E_b\n",
    "    m_p == ρ_p*D_p^1.5\n",
    "    m_A == ρ_A*A\n",
    "    m_T == ρ_T*D_T^1.5\n",
    "    m_P == ρ_P/h\n",
    "    m_S == η_S*m_t\n",
    "    m_t >= m_b + m_p + m_A + m_T + m_P + m_S\n",
    "end\n",
    "\n",
    "@NLobjective(m, Min, m_t)\n",
    ";"
   ]
  },
  {
   "cell_type": "code",
   "execution_count": 19,
   "metadata": {},
   "outputs": [
    {
     "name": "stderr",
     "output_type": "stream",
     "text": [
      "\u001b[1m\u001b[33mWARNING: \u001b[39m\u001b[22m\u001b[33mArray(::Type{T}, m::Int) where T is deprecated, use Array{T}(m) instead.\u001b[39m\n",
      "Stacktrace:\n",
      " [1] \u001b[1mdepwarn\u001b[22m\u001b[22m\u001b[1m(\u001b[22m\u001b[22m::String, ::Symbol\u001b[1m)\u001b[22m\u001b[22m at \u001b[1m.\\deprecated.jl:70\u001b[22m\u001b[22m\n",
      " [2] \u001b[1mArray\u001b[22m\u001b[22m\u001b[1m(\u001b[22m\u001b[22m::Type{DataStructures.OrderedDict{UInt64,Tuple{Union{AbstractArray, Number},Union{AbstractArray, Number}}}}, ::Int64\u001b[1m)\u001b[22m\u001b[22m at \u001b[1m.\\deprecated.jl:57\u001b[22m\u001b[22m\n",
      " [3] \u001b[1mconic_form!\u001b[22m\u001b[22m\u001b[1m(\u001b[22m\u001b[22m::Convex.ExpConstraint, ::Convex.UniqueConicForms\u001b[1m)\u001b[22m\u001b[22m at \u001b[1mC:\\Users\\johan\\.julia\\v0.6\\Convex\\src\\constraints\\exp_constraints.jl:52\u001b[22m\u001b[22m\n",
      " [4] \u001b[1mconic_form!\u001b[22m\u001b[22m\u001b[1m(\u001b[22m\u001b[22m::Convex.ExpAtom, ::Convex.UniqueConicForms\u001b[1m)\u001b[22m\u001b[22m at \u001b[1mC:\\Users\\johan\\.julia\\v0.6\\Convex\\src\\atoms/exp_cone\\exp.jl:55\u001b[22m\u001b[22m\n",
      " [5] \u001b[1mconic_form!\u001b[22m\u001b[22m\u001b[1m(\u001b[22m\u001b[22m::Convex.SumAtom, ::Convex.UniqueConicForms\u001b[1m)\u001b[22m\u001b[22m at \u001b[1mC:\\Users\\johan\\.julia\\v0.6\\Convex\\src\\atoms/affine\\sum.jl:48\u001b[22m\u001b[22m\n",
      " [6] \u001b[1mconic_form!\u001b[22m\u001b[22m\u001b[1m(\u001b[22m\u001b[22m::Convex.LogSumExpAtom, ::Convex.UniqueConicForms\u001b[1m)\u001b[22m\u001b[22m at \u001b[1mC:\\Users\\johan\\.julia\\v0.6\\Convex\\src\\atoms/exp_cone\\logsumexp.jl:55\u001b[22m\u001b[22m\n",
      " [7] \u001b[1mconic_form!\u001b[22m\u001b[22m\u001b[1m(\u001b[22m\u001b[22m::Convex.NegateAtom, ::Convex.UniqueConicForms\u001b[1m)\u001b[22m\u001b[22m at \u001b[1mC:\\Users\\johan\\.julia\\v0.6\\Convex\\src\\atoms/affine\\add_subtract.jl:47\u001b[22m\u001b[22m\n",
      " [8] \u001b[1mconic_form!\u001b[22m\u001b[22m\u001b[1m(\u001b[22m\u001b[22m::Convex.AdditionAtom, ::Convex.UniqueConicForms\u001b[1m)\u001b[22m\u001b[22m at \u001b[1mC:\\Users\\johan\\.julia\\v0.6\\Convex\\src\\atoms/affine\\add_subtract.jl:108\u001b[22m\u001b[22m\n",
      " [9] \u001b[1mconic_form!\u001b[22m\u001b[22m\u001b[1m(\u001b[22m\u001b[22m::Convex.LtConstraint, ::Convex.UniqueConicForms\u001b[1m)\u001b[22m\u001b[22m at \u001b[1mC:\\Users\\johan\\.julia\\v0.6\\Convex\\src\\constraints\\constraints.jl:101\u001b[22m\u001b[22m\n",
      " [10] \u001b[1mconic_form!\u001b[22m\u001b[22m\u001b[1m(\u001b[22m\u001b[22m::Convex.Problem, ::Convex.UniqueConicForms\u001b[1m)\u001b[22m\u001b[22m at \u001b[1mC:\\Users\\johan\\.julia\\v0.6\\Convex\\src\\problems.jl:101\u001b[22m\u001b[22m\n",
      " [11] \u001b[1mconic_problem\u001b[22m\u001b[22m\u001b[1m(\u001b[22m\u001b[22m::Convex.Problem\u001b[1m)\u001b[22m\u001b[22m at \u001b[1mC:\\Users\\johan\\.julia\\v0.6\\Convex\\src\\problems.jl:124\u001b[22m\u001b[22m\n",
      " [12] \u001b[1m#solve!#25\u001b[22m\u001b[22m\u001b[1m(\u001b[22m\u001b[22m::Bool, ::Bool, ::Bool, ::Function, ::Convex.Problem\u001b[1m)\u001b[22m\u001b[22m at \u001b[1mC:\\Users\\johan\\.julia\\v0.6\\Convex\\src\\solution.jl:25\u001b[22m\u001b[22m\n",
      " [13] \u001b[1m#solve!#24\u001b[22m\u001b[22m\u001b[1m(\u001b[22m\u001b[22m::Array{Any,1}, ::Function, ::Convex.Problem, ::ECOS.ECOSSolver\u001b[1m)\u001b[22m\u001b[22m at \u001b[1mC:\\Users\\johan\\.julia\\v0.6\\Convex\\src\\solution.jl:13\u001b[22m\u001b[22m\n",
      " [14] \u001b[1msolve!\u001b[22m\u001b[22m\u001b[1m(\u001b[22m\u001b[22m::Convex.Problem, ::ECOS.ECOSSolver\u001b[1m)\u001b[22m\u001b[22m at \u001b[1mC:\\Users\\johan\\.julia\\v0.6\\Convex\\src\\solution.jl:12\u001b[22m\u001b[22m\n",
      " [15] \u001b[1moptimize!\u001b[22m\u001b[22m\u001b[1m(\u001b[22m\u001b[22m::JuGP.GPInternalModel\u001b[1m)\u001b[22m\u001b[22m at \u001b[1mC:\\Users\\johan\\.julia\\v0.6\\JuGP\\src\\solver.jl:284\u001b[22m\u001b[22m\n",
      " [16] \u001b[1m#solvenlp#165\u001b[22m\u001b[22m\u001b[1m(\u001b[22m\u001b[22m::Bool, ::Function, ::JuMP.Model, ::JuMP.ProblemTraits\u001b[1m)\u001b[22m\u001b[22m at \u001b[1mC:\\Users\\johan\\.julia\\v0.6\\JuMP\\src\\nlp.jl:1271\u001b[22m\u001b[22m\n",
      " [17] \u001b[1m(::JuMP.#kw##solvenlp)\u001b[22m\u001b[22m\u001b[1m(\u001b[22m\u001b[22m::Array{Any,1}, ::JuMP.#solvenlp, ::JuMP.Model, ::JuMP.ProblemTraits\u001b[1m)\u001b[22m\u001b[22m at \u001b[1m.\\<missing>:0\u001b[22m\u001b[22m\n",
      " [18] \u001b[1m#solve#116\u001b[22m\u001b[22m\u001b[1m(\u001b[22m\u001b[22m::Bool, ::Bool, ::Bool, ::Array{Any,1}, ::Function, ::JuMP.Model\u001b[1m)\u001b[22m\u001b[22m at \u001b[1mC:\\Users\\johan\\.julia\\v0.6\\JuMP\\src\\solvers.jl:172\u001b[22m\u001b[22m\n",
      " [19] \u001b[1m(::JuMP.#kw##solve)\u001b[22m\u001b[22m\u001b[1m(\u001b[22m\u001b[22m::Array{Any,1}, ::JuMP.#solve, ::JuMP.Model\u001b[1m)\u001b[22m\u001b[22m at \u001b[1m.\\<missing>:0\u001b[22m\u001b[22m\n",
      " [20] \u001b[1m#solvehook#20\u001b[22m\u001b[22m\u001b[1m(\u001b[22m\u001b[22m::Bool, ::Function, ::JuMP.Model\u001b[1m)\u001b[22m\u001b[22m at \u001b[1mC:\\Users\\johan\\.julia\\v0.6\\JuGP\\src\\solver.jl:10\u001b[22m\u001b[22m\n",
      " [21] \u001b[1m(::JuGP.#kw##solvehook)\u001b[22m\u001b[22m\u001b[1m(\u001b[22m\u001b[22m::Array{Any,1}, ::JuGP.#solvehook, ::JuMP.Model\u001b[1m)\u001b[22m\u001b[22m at \u001b[1m.\\<missing>:0\u001b[22m\u001b[22m\n",
      " [22] \u001b[1m#solve#116\u001b[22m\u001b[22m\u001b[1m(\u001b[22m\u001b[22m::Bool, ::Bool, ::Bool, ::Array{Any,1}, ::Function, ::JuMP.Model\u001b[1m)\u001b[22m\u001b[22m at \u001b[1mC:\\Users\\johan\\.julia\\v0.6\\JuMP\\src\\solvers.jl:151\u001b[22m\u001b[22m\n",
      " [23] \u001b[1msolve\u001b[22m\u001b[22m\u001b[1m(\u001b[22m\u001b[22m::JuMP.Model\u001b[1m)\u001b[22m\u001b[22m at \u001b[1mC:\\Users\\johan\\.julia\\v0.6\\JuMP\\src\\solvers.jl:150\u001b[22m\u001b[22m\n",
      " [24] \u001b[1minclude_string\u001b[22m\u001b[22m\u001b[1m(\u001b[22m\u001b[22m::String, ::String\u001b[1m)\u001b[22m\u001b[22m at \u001b[1m.\\loading.jl:522\u001b[22m\u001b[22m\n",
      " [25] \u001b[1mexecute_request\u001b[22m\u001b[22m\u001b[1m(\u001b[22m\u001b[22m::ZMQ.Socket, ::IJulia.Msg\u001b[1m)\u001b[22m\u001b[22m at \u001b[1mC:\\Users\\johan\\.julia\\v0.6\\IJulia\\src\\execute_request.jl:158\u001b[22m\u001b[22m\n",
      " [26] \u001b[1m(::Compat.#inner#17{Array{Any,1},IJulia.#execute_request,Tuple{ZMQ.Socket,IJulia.Msg}})\u001b[22m\u001b[22m\u001b[1m(\u001b[22m\u001b[22m\u001b[1m)\u001b[22m\u001b[22m at \u001b[1mC:\\Users\\johan\\.julia\\v0.6\\Compat\\src\\Compat.jl:385\u001b[22m\u001b[22m\n",
      " [27] \u001b[1meventloop\u001b[22m\u001b[22m\u001b[1m(\u001b[22m\u001b[22m::ZMQ.Socket\u001b[1m)\u001b[22m\u001b[22m at \u001b[1mC:\\Users\\johan\\.julia\\v0.6\\IJulia\\src\\eventloop.jl:8\u001b[22m\u001b[22m\n",
      " [28] \u001b[1m(::IJulia.##14#17)\u001b[22m\u001b[22m\u001b[1m(\u001b[22m\u001b[22m\u001b[1m)\u001b[22m\u001b[22m at \u001b[1m.\\task.jl:335\u001b[22m\u001b[22m\n",
      "while loading In[19], in expression starting on line 1\n",
      "\u001b[1m\u001b[33mWARNING: \u001b[39m\u001b[22m\u001b[33misnan(x::AbstractArray{T}) where T <: Number is deprecated, use isnan.(x) instead.\u001b[39m\n",
      "Stacktrace:\n",
      " [1] \u001b[1mdepwarn\u001b[22m\u001b[22m\u001b[1m(\u001b[22m\u001b[22m::String, ::Symbol\u001b[1m)\u001b[22m\u001b[22m at \u001b[1m.\\deprecated.jl:70\u001b[22m\u001b[22m\n",
      " [2] \u001b[1misnan\u001b[22m\u001b[22m\u001b[1m(\u001b[22m\u001b[22m::Array{Float64,1}\u001b[1m)\u001b[22m\u001b[22m at \u001b[1m.\\deprecated.jl:57\u001b[22m\u001b[22m\n",
      " [3] \u001b[1mpopulate_solution!\u001b[22m\u001b[22m\u001b[1m(\u001b[22m\u001b[22m::ECOS.ECOSMathProgModel, ::Convex.Problem, ::Dict{UInt64,Tuple{Int64,Int64}}, ::Array{Convex.ConicConstr,1}\u001b[1m)\u001b[22m\u001b[22m at \u001b[1mC:\\Users\\johan\\.julia\\v0.6\\Convex\\src\\solution.jl:118\u001b[22m\u001b[22m\n",
      " [4] \u001b[1m#solve!#25\u001b[22m\u001b[22m\u001b[1m(\u001b[22m\u001b[22m::Bool, ::Bool, ::Bool, ::Function, ::Convex.Problem\u001b[1m)\u001b[22m\u001b[22m at \u001b[1mC:\\Users\\johan\\.julia\\v0.6\\Convex\\src\\solution.jl:38\u001b[22m\u001b[22m\n",
      " [5] \u001b[1m#solve!#24\u001b[22m\u001b[22m\u001b[1m(\u001b[22m\u001b[22m::Array{Any,1}, ::Function, ::Convex.Problem, ::ECOS.ECOSSolver\u001b[1m)\u001b[22m\u001b[22m at \u001b[1mC:\\Users\\johan\\.julia\\v0.6\\Convex\\src\\solution.jl:13\u001b[22m\u001b[22m\n",
      " [6] \u001b[1msolve!\u001b[22m\u001b[22m\u001b[1m(\u001b[22m\u001b[22m::Convex.Problem, ::ECOS.ECOSSolver\u001b[1m)\u001b[22m\u001b[22m at \u001b[1mC:\\Users\\johan\\.julia\\v0.6\\Convex\\src\\solution.jl:12\u001b[22m\u001b[22m\n",
      " [7] \u001b[1moptimize!\u001b[22m\u001b[22m\u001b[1m(\u001b[22m\u001b[22m::JuGP.GPInternalModel\u001b[1m)\u001b[22m\u001b[22m at \u001b[1mC:\\Users\\johan\\.julia\\v0.6\\JuGP\\src\\solver.jl:284\u001b[22m\u001b[22m\n",
      " [8] \u001b[1m#solvenlp#165\u001b[22m\u001b[22m\u001b[1m(\u001b[22m\u001b[22m::Bool, ::Function, ::JuMP.Model, ::JuMP.ProblemTraits\u001b[1m)\u001b[22m\u001b[22m at \u001b[1mC:\\Users\\johan\\.julia\\v0.6\\JuMP\\src\\nlp.jl:1271\u001b[22m\u001b[22m\n",
      " [9] \u001b[1m(::JuMP.#kw##solvenlp)\u001b[22m\u001b[22m\u001b[1m(\u001b[22m\u001b[22m::Array{Any,1}, ::JuMP.#solvenlp, ::JuMP.Model, ::JuMP.ProblemTraits\u001b[1m)\u001b[22m\u001b[22m at \u001b[1m.\\<missing>:0\u001b[22m\u001b[22m\n",
      " [10] \u001b[1m#solve#116\u001b[22m\u001b[22m\u001b[1m(\u001b[22m\u001b[22m::Bool, ::Bool, ::Bool, ::Array{Any,1}, ::Function, ::JuMP.Model\u001b[1m)\u001b[22m\u001b[22m at \u001b[1mC:\\Users\\johan\\.julia\\v0.6\\JuMP\\src\\solvers.jl:172\u001b[22m\u001b[22m\n",
      " [11] \u001b[1m(::JuMP.#kw##solve)\u001b[22m\u001b[22m\u001b[1m(\u001b[22m\u001b[22m::Array{Any,1}, ::JuMP.#solve, ::JuMP.Model\u001b[1m)\u001b[22m\u001b[22m at \u001b[1m.\\<missing>:0\u001b[22m\u001b[22m\n",
      " [12] \u001b[1m#solvehook#20\u001b[22m\u001b[22m\u001b[1m(\u001b[22m\u001b[22m::Bool, ::Function, ::JuMP.Model\u001b[1m)\u001b[22m\u001b[22m at \u001b[1mC:\\Users\\johan\\.julia\\v0.6\\JuGP\\src\\solver.jl:10\u001b[22m\u001b[22m\n",
      " [13] \u001b[1m(::JuGP.#kw##solvehook)\u001b[22m\u001b[22m\u001b[1m(\u001b[22m\u001b[22m::Array{Any,1}, ::JuGP.#solvehook, ::JuMP.Model\u001b[1m)\u001b[22m\u001b[22m at \u001b[1m.\\<missing>:0\u001b[22m\u001b[22m\n",
      " [14] \u001b[1m#solve#116\u001b[22m\u001b[22m\u001b[1m(\u001b[22m\u001b[22m::Bool, ::Bool, ::Bool, ::Array{Any,1}, ::Function, ::JuMP.Model\u001b[1m)\u001b[22m\u001b[22m at \u001b[1mC:\\Users\\johan\\.julia\\v0.6\\JuMP\\src\\solvers.jl:151\u001b[22m\u001b[22m\n",
      " [15] \u001b[1msolve\u001b[22m\u001b[22m\u001b[1m(\u001b[22m\u001b[22m::JuMP.Model\u001b[1m)\u001b[22m\u001b[22m at \u001b[1mC:\\Users\\johan\\.julia\\v0.6\\JuMP\\src\\solvers.jl:150\u001b[22m\u001b[22m\n",
      " [16] \u001b[1minclude_string\u001b[22m\u001b[22m\u001b[1m(\u001b[22m\u001b[22m::String, ::String\u001b[1m)\u001b[22m\u001b[22m at \u001b[1m.\\loading.jl:522\u001b[22m\u001b[22m\n",
      " [17] \u001b[1mexecute_request\u001b[22m\u001b[22m\u001b[1m(\u001b[22m\u001b[22m::ZMQ.Socket, ::IJulia.Msg\u001b[1m)\u001b[22m\u001b[22m at \u001b[1mC:\\Users\\johan\\.julia\\v0.6\\IJulia\\src\\execute_request.jl:158\u001b[22m\u001b[22m\n",
      " [18] \u001b[1m(::Compat.#inner#17{Array{Any,1},IJulia.#execute_request,Tuple{ZMQ.Socket,IJulia.Msg}})\u001b[22m\u001b[22m\u001b[1m(\u001b[22m\u001b[22m\u001b[1m)\u001b[22m\u001b[22m at \u001b[1mC:\\Users\\johan\\.julia\\v0.6\\Compat\\src\\Compat.jl:385\u001b[22m\u001b[22m\n",
      " [19] \u001b[1meventloop\u001b[22m\u001b[22m\u001b[1m(\u001b[22m\u001b[22m::ZMQ.Socket\u001b[1m)\u001b[22m\u001b[22m at \u001b[1mC:\\Users\\johan\\.julia\\v0.6\\IJulia\\src\\eventloop.jl:8\u001b[22m\u001b[22m\n",
      " [20] \u001b[1m(::IJulia.##14#17)\u001b[22m\u001b[22m\u001b[1m(\u001b[22m\u001b[22m\u001b[1m)\u001b[22m\u001b[22m at \u001b[1m.\\task.jl:335\u001b[22m\u001b[22m\n",
      "while loading In[19], in expression starting on line 1\n",
      "\u001b[1m\u001b[33mWARNING: \u001b[39m\u001b[22m\u001b[33mProblem status Infeasible; solution may be inaccurate.\u001b[39m\n",
      "\u001b[1m\u001b[33mWARNING: \u001b[39m\u001b[22m\u001b[33mNot solved to optimality, status: Infeasible\u001b[39m\n"
     ]
    },
    {
     "data": {
      "text/plain": [
       "0"
      ]
     },
     "execution_count": 19,
     "metadata": {},
     "output_type": "execute_result"
    },
    {
     "name": "stdout",
     "output_type": "stream",
     "text": [
      "\n",
      "ECOS 2.0.2 - (C) embotech GmbH, Zurich Switzerland, 2012-15. Web: www.embotech.com/ECOS\n",
      "\n",
      "It     pcost       dcost      gap   pres   dres    k/t    mu     step   sigma     IR    |   BT\n",
      " 0  +0.000e+00  -6.357e+01  +7e+01  1e+00  9e-01  1e+00  1e+00    ---    ---    0  0  - |  -  - \n",
      " 1  +5.009e-01  -4.663e+01  +3e+01  7e-01  6e-01  1e+00  4e-01  0.6253  8e-02   1  1  1 |  0  0\n",
      " 2  +5.712e-01  -4.968e+01  +2e+01  7e-01  3e-01  2e+00  3e-01  0.6463  5e-01   1  1  1 |  0  0\n",
      " 3  +7.705e-01  -4.408e+01  +6e+00  8e-01  2e-01  7e+00  9e-02  0.9791  3e-01   1  1  1 |  1  0\n",
      " 4  +8.601e-01  -2.377e+01  +2e+00  7e-01  2e-01  3e+01  2e-02  0.7517  3e-03   1  1  1 |  0  1\n",
      " 5  +9.839e-01  +6.378e+02  +5e-02  7e-01  2e-01  7e+02  8e-04  0.9778  1e-02   2  1  1 |  1  0\n",
      " 6  +9.395e-01  +8.926e+03  +4e-03  7e-01  2e-01  9e+03  6e-05  0.9418  2e-02   3  2  1 |  1  0\n",
      " 7  +9.282e-01  +3.713e+04  +1e-03  7e-01  1e-01  4e+04  1e-05  0.7755  2e-02   1  2  1 |  1  1\n",
      " 8  +9.277e-01  +1.772e+06  +2e-05  7e-01  1e-01  2e+06  3e-07  0.9791  1e-04   2  2  2 |  0  0\n",
      " 9  +8.601e-01  +5.913e+07  +6e-07  7e-01  1e-01  6e+07  9e-09  0.9791  9e-03   3  2  2 |  1  0\n",
      "\n",
      "PRIMAL INFEASIBLE (within feastol=1.7e-09).\n",
      "Runtime: 0.001288 seconds.\n",
      "\n"
     ]
    }
   ],
   "source": [
    "solve(m);\n",
    "getobjectivevalue(m)"
   ]
  },
  {
   "cell_type": "code",
   "execution_count": 54,
   "metadata": {},
   "outputs": [
    {
     "name": "stdout",
     "output_type": "stream",
     "text": [
      "\n",
      "Constraint expr: x[11] - x[3] * 0.29 * 1367.0 == 0.0\n",
      "Constraint type: ==\n",
      "[0.0025225134323840276*x_{3}^{-1.0}*x_{11}^{1.0} + -1.0]\n",
      "\n",
      "Constraint expr: (x[12] + 5.0) - x[18] * x[11] <= 0.0\n",
      "Constraint type: <=\n",
      "[1.0*x_{11}^{-1.0}*x_{12}^{1.0}*x_{18}^{-1.0} + 5.0*x_{11}^{-1.0}*x_{18}^{-1.0} + -1.0]\n",
      "\n",
      "Constraint expr: x[13] - x[11] * x[19] * x[16] >= 0.0\n",
      "Constraint type: >=\n",
      "[1.0*x_{13}^{-1.0}*x_{19}^{1.0}*x_{16}^{1.0}*x_{11}^{1.0} + -1.0]\n",
      "\n",
      "Constraint expr: 40.0 * 9.777 * 1.38064852e-23 * 135.0 * 6.378e6 * 2.0 * 3.141592653589793 * 2000.0 * 8.0 * 4.0 * x[17] ^ 2.0 - x[12] * 2610.1601421768432 * 20.0 * x[20] * x[16] * 0.55 * x[2] ^ 2.0 == 0.0\n",
      "Constraint type: ==\n",
      "[6.511289802055442e-11*x_{2}^{-2.0}*x_{16}^{-1.0}*x_{17}^{2.0}*x_{12}^{-1.0}*x_{20}^{-1.0} + -1.0]\n",
      "\n",
      "Constraint expr: 20.0 * x[1] - x[14] * 5.0e-7 == 0.0\n",
      "Constraint type: ==\n",
      "[4.0e7*x_{14}^{-1.0}*x_{1}^{1.0} + -1.0]\n",
      "\n",
      "Constraint expr: x[15] - (6.378e6 + x[14]) >= 0.0\n",
      "Constraint type: >=\n",
      "[6.378e6*x_{15}^{-1.0} + 1.0*x_{14}^{1.0}*x_{15}^{-1.0} + -1.0]\n",
      "\n",
      "Constraint expr: x[20] - 0.1399851 * x[14] ^ 0.464835 * 6.378e6 ^ -0.464835 == 0.0\n",
      "Constraint type: ==\n",
      "[0.004907526592935999*x_{14}^{-0.464835}*x_{20}^{1.0} + -1.0]\n",
      "\n",
      "Constraint expr: x[16] - 2.0 * 3.141592653589793 * x[15] ^ (3.0 / 2.0) * 3.986005e14 ^ (-1.0 / 2.0) == 0.0\n",
      "Constraint type: ==\n",
      "[3.1775255490879873e6*x_{16}^{1.0}*x_{15}^{-1.5} + -1.0]\n",
      "\n",
      "Constraint expr: x[17] ^ 2.0 - (x[14] ^ 2.0 + 2.0 * 6.378e6 * x[14]) >= 0.0\n",
      "Constraint type: >=\n",
      "[1.0*x_{14}^{2.0}*x_{17}^{-2.0} + 1.2756e7*x_{14}^{1.0}*x_{17}^{-2.0} + -1.0]\n",
      "\n",
      "Constraint expr: x[5] - 0.001 * x[13] == 0.0\n",
      "Constraint type: ==\n",
      "[1000.0*x_{13}^{-1.0}*x_{5}^{1.0} + -1.0]\n",
      "\n",
      "Constraint expr: x[7] - 100.0 * x[1] ^ 1.5 == 0.0\n",
      "Constraint type: ==\n",
      "[0.01*x_{7}^{1.0}*x_{1}^{-1.5} + -1.0]\n",
      "\n",
      "Constraint expr: x[6] - 10.0 * x[3] == 0.0\n",
      "Constraint type: ==\n",
      "[0.1*x_{3}^{-1.0}*x_{6}^{1.0} + -1.0]\n",
      "\n",
      "Constraint expr: x[8] - 2.0 * x[2] ^ 1.5 == 0.0\n",
      "Constraint type: ==\n",
      "[0.5*x_{2}^{-1.5}*x_{8}^{1.0} + -1.0]\n",
      "\n",
      "Constraint expr: x[10] - 500.0 / x[14] == 0.0\n",
      "Constraint type: ==\n",
      "[0.002*x_{14}^{1.0}*x_{10}^{1.0} + -1.0]\n",
      "\n",
      "Constraint expr: x[9] - 0.2 * x[4] == 0.0\n",
      "Constraint type: ==\n",
      "[5.0*x_{9}^{1.0}*x_{4}^{-1.0} + -1.0]\n",
      "\n",
      "Constraint expr: x[4] - (x[5] + x[7] + x[6] + x[8] + x[10] + x[9]) >= 0.0\n",
      "Constraint type: >=\n",
      "[1.0*x_{4}^{-1.0}*x_{5}^{1.0} + 1.0*x_{7}^{1.0}*x_{4}^{-1.0} + 1.0*x_{4}^{-1.0}*x_{6}^{1.0} + 1.0*x_{4}^{-1.0}*x_{8}^{1.0} + 1.0*x_{4}^{-1.0}*x_{10}^{1.0} + 1.0*x_{9}^{1.0}*x_{4}^{-1.0} + -1.0]\n"
     ]
    },
    {
     "name": "stderr",
     "output_type": "stream",
     "text": [
      "\u001b[1m\u001b[33mWARNING: \u001b[39m\u001b[22m\u001b[33mArray(::Type{T}, m::Int) where T is deprecated, use Array{T}(m) instead.\u001b[39m\n",
      "Stacktrace:\n",
      " [1] \u001b[1mdepwarn\u001b[22m\u001b[22m\u001b[1m(\u001b[22m\u001b[22m::String, ::Symbol\u001b[1m)\u001b[22m\u001b[22m at \u001b[1m./deprecated.jl:70\u001b[22m\u001b[22m\n",
      " [2] \u001b[1mArray\u001b[22m\u001b[22m\u001b[1m(\u001b[22m\u001b[22m::Type{DataStructures.OrderedDict{UInt64,Tuple{Union{AbstractArray, Number},Union{AbstractArray, Number}}}}, ::Int64\u001b[1m)\u001b[22m\u001b[22m at \u001b[1m./deprecated.jl:57\u001b[22m\u001b[22m\n",
      " [3] \u001b[1mconic_form!\u001b[22m\u001b[22m\u001b[1m(\u001b[22m\u001b[22m::Convex.ExpConstraint, ::Convex.UniqueConicForms\u001b[1m)\u001b[22m\u001b[22m at \u001b[1m/home/coey/.julia/v0.6/Convex/src/constraints/exp_constraints.jl:52\u001b[22m\u001b[22m\n",
      " [4] \u001b[1mconic_form!\u001b[22m\u001b[22m\u001b[1m(\u001b[22m\u001b[22m::Convex.ExpAtom, ::Convex.UniqueConicForms\u001b[1m)\u001b[22m\u001b[22m at \u001b[1m/home/coey/.julia/v0.6/Convex/src/atoms/exp_cone/exp.jl:55\u001b[22m\u001b[22m\n",
      " [5] \u001b[1mconic_form!\u001b[22m\u001b[22m\u001b[1m(\u001b[22m\u001b[22m::Convex.SumAtom, ::Convex.UniqueConicForms\u001b[1m)\u001b[22m\u001b[22m at \u001b[1m/home/coey/.julia/v0.6/Convex/src/atoms/affine/sum.jl:48\u001b[22m\u001b[22m\n",
      " [6] \u001b[1mconic_form!\u001b[22m\u001b[22m\u001b[1m(\u001b[22m\u001b[22m::Convex.LogSumExpAtom, ::Convex.UniqueConicForms\u001b[1m)\u001b[22m\u001b[22m at \u001b[1m/home/coey/.julia/v0.6/Convex/src/atoms/exp_cone/logsumexp.jl:55\u001b[22m\u001b[22m\n",
      " [7] \u001b[1mconic_form!\u001b[22m\u001b[22m\u001b[1m(\u001b[22m\u001b[22m::Convex.NegateAtom, ::Convex.UniqueConicForms\u001b[1m)\u001b[22m\u001b[22m at \u001b[1m/home/coey/.julia/v0.6/Convex/src/atoms/affine/add_subtract.jl:47\u001b[22m\u001b[22m\n",
      " [8] \u001b[1mconic_form!\u001b[22m\u001b[22m\u001b[1m(\u001b[22m\u001b[22m::Convex.AdditionAtom, ::Convex.UniqueConicForms\u001b[1m)\u001b[22m\u001b[22m at \u001b[1m/home/coey/.julia/v0.6/Convex/src/atoms/affine/add_subtract.jl:108\u001b[22m\u001b[22m\n",
      " [9] \u001b[1mconic_form!\u001b[22m\u001b[22m\u001b[1m(\u001b[22m\u001b[22m::Convex.LtConstraint, ::Convex.UniqueConicForms\u001b[1m)\u001b[22m\u001b[22m at \u001b[1m/home/coey/.julia/v0.6/Convex/src/constraints/constraints.jl:101\u001b[22m\u001b[22m\n",
      " [10] \u001b[1mconic_form!\u001b[22m\u001b[22m\u001b[1m(\u001b[22m\u001b[22m::Convex.Problem, ::Convex.UniqueConicForms\u001b[1m)\u001b[22m\u001b[22m at \u001b[1m/home/coey/.julia/v0.6/Convex/src/problems.jl:101\u001b[22m\u001b[22m\n",
      " [11] \u001b[1mconic_problem\u001b[22m\u001b[22m\u001b[1m(\u001b[22m\u001b[22m::Convex.Problem\u001b[1m)\u001b[22m\u001b[22m at \u001b[1m/home/coey/.julia/v0.6/Convex/src/problems.jl:124\u001b[22m\u001b[22m\n",
      " [12] \u001b[1m#solve!#25\u001b[22m\u001b[22m\u001b[1m(\u001b[22m\u001b[22m::Bool, ::Bool, ::Bool, ::Function, ::Convex.Problem\u001b[1m)\u001b[22m\u001b[22m at \u001b[1m/home/coey/.julia/v0.6/Convex/src/solution.jl:25\u001b[22m\u001b[22m\n",
      " [13] \u001b[1m#solve!#24\u001b[22m\u001b[22m\u001b[1m(\u001b[22m\u001b[22m::Array{Any,1}, ::Function, ::Convex.Problem, ::ECOS.ECOSSolver\u001b[1m)\u001b[22m\u001b[22m at \u001b[1m/home/coey/.julia/v0.6/Convex/src/solution.jl:13\u001b[22m\u001b[22m\n",
      " [14] \u001b[1msolve!\u001b[22m\u001b[22m\u001b[1m(\u001b[22m\u001b[22m::Convex.Problem, ::ECOS.ECOSSolver\u001b[1m)\u001b[22m\u001b[22m at \u001b[1m/home/coey/.julia/v0.6/Convex/src/solution.jl:12\u001b[22m\u001b[22m\n",
      " [15] \u001b[1moptimize!\u001b[22m\u001b[22m\u001b[1m(\u001b[22m\u001b[22m::JuGP.GPInternalModel\u001b[1m)\u001b[22m\u001b[22m at \u001b[1m/home/coey/.julia/v0.6/JuGP/src/solver.jl:299\u001b[22m\u001b[22m\n",
      " [16] \u001b[1m#solvenlp#165\u001b[22m\u001b[22m\u001b[1m(\u001b[22m\u001b[22m::Bool, ::Function, ::JuMP.Model, ::JuMP.ProblemTraits\u001b[1m)\u001b[22m\u001b[22m at \u001b[1m/home/coey/.julia/v0.6/JuMP/src/nlp.jl:1271\u001b[22m\u001b[22m\n",
      " [17] \u001b[1m(::JuMP.#kw##solvenlp)\u001b[22m\u001b[22m\u001b[1m(\u001b[22m\u001b[22m::Array{Any,1}, ::JuMP.#solvenlp, ::JuMP.Model, ::JuMP.ProblemTraits\u001b[1m)\u001b[22m\u001b[22m at \u001b[1m./<missing>:0\u001b[22m\u001b[22m\n",
      " [18] \u001b[1m#solve#116\u001b[22m\u001b[22m\u001b[1m(\u001b[22m\u001b[22m::Bool, ::Bool, ::Bool, ::Array{Any,1}, ::Function, ::JuMP.Model\u001b[1m)\u001b[22m\u001b[22m at \u001b[1m/home/coey/.julia/v0.6/JuMP/src/solvers.jl:172\u001b[22m\u001b[22m\n",
      " [19] \u001b[1m(::JuMP.#kw##solve)\u001b[22m\u001b[22m\u001b[1m(\u001b[22m\u001b[22m::Array{Any,1}, ::JuMP.#solve, ::JuMP.Model\u001b[1m)\u001b[22m\u001b[22m at \u001b[1m./<missing>:0\u001b[22m\u001b[22m\n",
      " [20] \u001b[1m#solvehook#20\u001b[22m\u001b[22m\u001b[1m(\u001b[22m\u001b[22m::Bool, ::Function, ::JuMP.Model\u001b[1m)\u001b[22m\u001b[22m at \u001b[1m/home/coey/.julia/v0.6/JuGP/src/solver.jl:10\u001b[22m\u001b[22m\n",
      " [21] \u001b[1m(::JuGP.#kw##solvehook)\u001b[22m\u001b[22m\u001b[1m(\u001b[22m\u001b[22m::Array{Any,1}, ::JuGP.#solvehook, ::JuMP.Model\u001b[1m)\u001b[22m\u001b[22m at \u001b[1m./<missing>:0\u001b[22m\u001b[22m\n",
      " [22] \u001b[1m#solve#116\u001b[22m\u001b[22m\u001b[1m(\u001b[22m\u001b[22m::Bool, ::Bool, ::Bool, ::Array{Any,1}, ::Function, ::JuMP.Model\u001b[1m)\u001b[22m\u001b[22m at \u001b[1m/home/coey/.julia/v0.6/JuMP/src/solvers.jl:151\u001b[22m\u001b[22m\n",
      " [23] \u001b[1msolve\u001b[22m\u001b[22m\u001b[1m(\u001b[22m\u001b[22m::JuMP.Model\u001b[1m)\u001b[22m\u001b[22m at \u001b[1m/home/coey/.julia/v0.6/JuMP/src/solvers.jl:150\u001b[22m\u001b[22m\n",
      " [24] \u001b[1minclude_string\u001b[22m\u001b[22m\u001b[1m(\u001b[22m\u001b[22m::String, ::String\u001b[1m)\u001b[22m\u001b[22m at \u001b[1m./loading.jl:522\u001b[22m\u001b[22m\n",
      " [25] \u001b[1mexecute_request\u001b[22m\u001b[22m\u001b[1m(\u001b[22m\u001b[22m::ZMQ.Socket, ::IJulia.Msg\u001b[1m)\u001b[22m\u001b[22m at \u001b[1m/home/coey/.julia/v0.6/IJulia/src/execute_request.jl:158\u001b[22m\u001b[22m\n",
      " [26] \u001b[1m(::Compat.#inner#17{Array{Any,1},IJulia.#execute_request,Tuple{ZMQ.Socket,IJulia.Msg}})\u001b[22m\u001b[22m\u001b[1m(\u001b[22m\u001b[22m\u001b[1m)\u001b[22m\u001b[22m at \u001b[1m/home/coey/.julia/v0.6/Compat/src/Compat.jl:385\u001b[22m\u001b[22m\n",
      " [27] \u001b[1meventloop\u001b[22m\u001b[22m\u001b[1m(\u001b[22m\u001b[22m::ZMQ.Socket\u001b[1m)\u001b[22m\u001b[22m at \u001b[1m/home/coey/.julia/v0.6/IJulia/src/eventloop.jl:8\u001b[22m\u001b[22m\n",
      " [28] \u001b[1m(::IJulia.##14#17)\u001b[22m\u001b[22m\u001b[1m(\u001b[22m\u001b[22m\u001b[1m)\u001b[22m\u001b[22m at \u001b[1m./task.jl:335\u001b[22m\u001b[22m\n",
      "while loading In[54], in expression starting on line 1\n",
      "\u001b[1m\u001b[33mWARNING: \u001b[39m\u001b[22m\u001b[33misnan(x::AbstractArray{T}) where T <: Number is deprecated, use isnan.(x) instead.\u001b[39m\n",
      "Stacktrace:\n",
      " [1] \u001b[1mdepwarn\u001b[22m\u001b[22m\u001b[1m(\u001b[22m\u001b[22m::String, ::Symbol\u001b[1m)\u001b[22m\u001b[22m at \u001b[1m./deprecated.jl:70\u001b[22m\u001b[22m\n",
      " [2] \u001b[1misnan\u001b[22m\u001b[22m\u001b[1m(\u001b[22m\u001b[22m::Array{Float64,1}\u001b[1m)\u001b[22m\u001b[22m at \u001b[1m./deprecated.jl:57\u001b[22m\u001b[22m\n",
      " [3] \u001b[1mpopulate_solution!\u001b[22m\u001b[22m\u001b[1m(\u001b[22m\u001b[22m::ECOS.ECOSMathProgModel, ::Convex.Problem, ::Dict{UInt64,Tuple{Int64,Int64}}, ::Array{Convex.ConicConstr,1}\u001b[1m)\u001b[22m\u001b[22m at \u001b[1m/home/coey/.julia/v0.6/Convex/src/solution.jl:118\u001b[22m\u001b[22m\n",
      " [4] \u001b[1m#solve!#25\u001b[22m\u001b[22m\u001b[1m(\u001b[22m\u001b[22m::Bool, ::Bool, ::Bool, ::Function, ::Convex.Problem\u001b[1m)\u001b[22m\u001b[22m at \u001b[1m/home/coey/.julia/v0.6/Convex/src/solution.jl:38\u001b[22m\u001b[22m\n",
      " [5] \u001b[1m#solve!#24\u001b[22m\u001b[22m\u001b[1m(\u001b[22m\u001b[22m::Array{Any,1}, ::Function, ::Convex.Problem, ::ECOS.ECOSSolver\u001b[1m)\u001b[22m\u001b[22m at \u001b[1m/home/coey/.julia/v0.6/Convex/src/solution.jl:13\u001b[22m\u001b[22m\n",
      " [6] \u001b[1msolve!\u001b[22m\u001b[22m\u001b[1m(\u001b[22m\u001b[22m::Convex.Problem, ::ECOS.ECOSSolver\u001b[1m)\u001b[22m\u001b[22m at \u001b[1m/home/coey/.julia/v0.6/Convex/src/solution.jl:12\u001b[22m\u001b[22m\n",
      " [7] \u001b[1moptimize!\u001b[22m\u001b[22m\u001b[1m(\u001b[22m\u001b[22m::JuGP.GPInternalModel\u001b[1m)\u001b[22m\u001b[22m at \u001b[1m/home/coey/.julia/v0.6/JuGP/src/solver.jl:299\u001b[22m\u001b[22m\n",
      " [8] \u001b[1m#solvenlp#165\u001b[22m\u001b[22m\u001b[1m(\u001b[22m\u001b[22m::Bool, ::Function, ::JuMP.Model, ::JuMP.ProblemTraits\u001b[1m)\u001b[22m\u001b[22m at \u001b[1m/home/coey/.julia/v0.6/JuMP/src/nlp.jl:1271\u001b[22m\u001b[22m\n",
      " [9] \u001b[1m(::JuMP.#kw##solvenlp)\u001b[22m\u001b[22m\u001b[1m(\u001b[22m\u001b[22m::Array{Any,1}, ::JuMP.#solvenlp, ::JuMP.Model, ::JuMP.ProblemTraits\u001b[1m)\u001b[22m\u001b[22m at \u001b[1m./<missing>:0\u001b[22m\u001b[22m\n",
      " [10] \u001b[1m#solve#116\u001b[22m\u001b[22m\u001b[1m(\u001b[22m\u001b[22m::Bool, ::Bool, ::Bool, ::Array{Any,1}, ::Function, ::JuMP.Model\u001b[1m)\u001b[22m\u001b[22m at \u001b[1m/home/coey/.julia/v0.6/JuMP/src/solvers.jl:172\u001b[22m\u001b[22m\n",
      " [11] \u001b[1m(::JuMP.#kw##solve)\u001b[22m\u001b[22m\u001b[1m(\u001b[22m\u001b[22m::Array{Any,1}, ::JuMP.#solve, ::JuMP.Model\u001b[1m)\u001b[22m\u001b[22m at \u001b[1m./<missing>:0\u001b[22m\u001b[22m\n",
      " [12] \u001b[1m#solvehook#20\u001b[22m\u001b[22m\u001b[1m(\u001b[22m\u001b[22m::Bool, ::Function, ::JuMP.Model\u001b[1m)\u001b[22m\u001b[22m at \u001b[1m/home/coey/.julia/v0.6/JuGP/src/solver.jl:10\u001b[22m\u001b[22m\n",
      " [13] \u001b[1m(::JuGP.#kw##solvehook)\u001b[22m\u001b[22m\u001b[1m(\u001b[22m\u001b[22m::Array{Any,1}, ::JuGP.#solvehook, ::JuMP.Model\u001b[1m)\u001b[22m\u001b[22m at \u001b[1m./<missing>:0\u001b[22m\u001b[22m\n",
      " [14] \u001b[1m#solve#116\u001b[22m\u001b[22m\u001b[1m(\u001b[22m\u001b[22m::Bool, ::Bool, ::Bool, ::Array{Any,1}, ::Function, ::JuMP.Model\u001b[1m)\u001b[22m\u001b[22m at \u001b[1m/home/coey/.julia/v0.6/JuMP/src/solvers.jl:151\u001b[22m\u001b[22m\n",
      " [15] \u001b[1msolve\u001b[22m\u001b[22m\u001b[1m(\u001b[22m\u001b[22m::JuMP.Model\u001b[1m)\u001b[22m\u001b[22m at \u001b[1m/home/coey/.julia/v0.6/JuMP/src/solvers.jl:150\u001b[22m\u001b[22m\n",
      " [16] \u001b[1minclude_string\u001b[22m\u001b[22m\u001b[1m(\u001b[22m\u001b[22m::String, ::String\u001b[1m)\u001b[22m\u001b[22m at \u001b[1m./loading.jl:522\u001b[22m\u001b[22m\n",
      " [17] \u001b[1mexecute_request\u001b[22m\u001b[22m\u001b[1m(\u001b[22m\u001b[22m::ZMQ.Socket, ::IJulia.Msg\u001b[1m)\u001b[22m\u001b[22m at \u001b[1m/home/coey/.julia/v0.6/IJulia/src/execute_request.jl:158\u001b[22m\u001b[22m\n",
      " [18] \u001b[1m(::Compat.#inner#17{Array{Any,1},IJulia.#execute_request,Tuple{ZMQ.Socket,IJulia.Msg}})\u001b[22m\u001b[22m\u001b[1m(\u001b[22m\u001b[22m\u001b[1m)\u001b[22m\u001b[22m at \u001b[1m/home/coey/.julia/v0.6/Compat/src/Compat.jl:385\u001b[22m\u001b[22m\n",
      " [19] \u001b[1meventloop\u001b[22m\u001b[22m\u001b[1m(\u001b[22m\u001b[22m::ZMQ.Socket\u001b[1m)\u001b[22m\u001b[22m at \u001b[1m/home/coey/.julia/v0.6/IJulia/src/eventloop.jl:8\u001b[22m\u001b[22m\n",
      " [20] \u001b[1m(::IJulia.##14#17)\u001b[22m\u001b[22m\u001b[1m(\u001b[22m\u001b[22m\u001b[1m)\u001b[22m\u001b[22m at \u001b[1m./task.jl:335\u001b[22m\u001b[22m\n",
      "while loading In[54], in expression starting on line 1\n"
     ]
    },
    {
     "name": "stdout",
     "output_type": "stream",
     "text": [
      "\n",
      "ECOS 2.0.5 - (C) embotech GmbH, Zurich Switzerland, 2012-15. Web: www.embotech.com/ECOS\n",
      "\n",
      "It     pcost       dcost      gap   pres   dres    k/t    mu     step   sigma     IR    |   BT\n",
      " 0  +0.000e+00  -1.182e+02  +7e+01  1e+00  6e-01  1e+00  1e+00    ---    ---    0  0  - |  -  - \n",
      " 1  +1.735e+00  -9.042e+01  +3e+01  7e-01  5e-01  2e+00  4e-01  0.7091  1e-01   1  1  1 |  0  0\n",
      " 2  +3.849e+00  -5.666e+01  +1e+01  4e-01  4e-01  2e+00  2e-01  0.5668  6e-02   1  1  1 |  0  2\n",
      " 3  +6.000e+00  -1.935e+01  +4e+00  2e-01  2e-01  6e-01  6e-02  0.7058  1e-01   1  1  1 |  1  1\n",
      " 4  +7.133e+00  +6.630e-01  +1e+00  4e-02  5e-02  1e-01  2e-02  0.7833  6e-02   1  1  1 |  1  1\n",
      " 5  +7.367e+00  +5.417e+00  +4e-01  1e-02  2e-02  4e-02  6e-03  0.6947  4e-02   1  1  1 |  1  1\n",
      " 6  +7.434e+00  +6.935e+00  +1e-01  3e-03  6e-03  1e-02  2e-03  0.7438  2e-02   1  1  1 |  1  1\n",
      " 7  +7.451e+00  +7.311e+00  +3e-02  8e-04  2e-03  3e-03  5e-04  0.7285  3e-02   1  1  1 |  1  1\n",
      " 8  +7.456e+00  +7.417e+00  +9e-03  2e-04  7e-04  8e-04  1e-04  0.7295  2e-02   1  1  1 |  1  1\n",
      " 9  +7.457e+00  +7.446e+00  +3e-03  6e-05  3e-04  2e-04  4e-05  0.7201  3e-02   2  1  1 |  1  1\n",
      "10  +7.457e+00  +7.454e+00  +7e-04  2e-05  9e-05  6e-05  1e-05  0.7471  2e-02   1  1  1 |  1  1\n",
      "11  +7.458e+00  +7.457e+00  +2e-04  5e-06  3e-05  2e-05  3e-06  0.7185  3e-02   1  1  1 |  1  1\n",
      "12  +7.458e+00  +7.457e+00  +6e-05  1e-06  7e-06  5e-06  9e-07  0.7451  2e-02   1  1  1 |  1  1\n",
      "13  +7.458e+00  +7.458e+00  +2e-05  4e-07  2e-06  1e-06  3e-07  0.7217  3e-02   1  1  1 |  1  1\n",
      "14  +7.458e+00  +7.458e+00  +5e-06  1e-07  6e-07  4e-07  7e-08  0.7267  2e-02   2  1  1 |  1  1\n",
      "15  +7.458e+00  +7.458e+00  +2e-06  4e-08  2e-07  1e-07  2e-08  0.7213  3e-02   2  2  1 |  1  1\n",
      "16  +7.458e+00  +7.458e+00  +4e-07  1e-08  5e-08  4e-08  6e-09  0.7411  2e-02   2  1  1 |  1  1\n",
      "17  +7.458e+00  +7.458e+00  +1e-07  3e-09  2e-08  1e-08  2e-09  0.7290  3e-02   2  1  1 |  1  1\n",
      "18  +7.458e+00  +7.458e+00  +3e-08  9e-10  5e-09  3e-09  5e-10  0.7153  3e-02   2  1  1 |  1  1\n",
      "\n",
      "OPTIMAL (within feastol=4.6e-09, reltol=4.6e-09, abstol=3.5e-08).\n",
      "Runtime: 0.001944 seconds.\n",
      "\n"
     ]
    },
    {
     "data": {
      "text/plain": [
       ":Optimal"
      ]
     },
     "execution_count": 54,
     "metadata": {},
     "output_type": "execute_result"
    }
   ],
   "source": []
  },
  {
   "cell_type": "code",
   "execution_count": null,
   "metadata": {},
   "outputs": [],
   "source": []
  }
 ],
 "metadata": {
  "kernelspec": {
   "display_name": "Julia 0.6.2",
   "language": "julia",
   "name": "julia-0.6"
  },
  "language_info": {
   "file_extension": ".jl",
   "mimetype": "application/julia",
   "name": "julia",
   "version": "0.6.2"
  }
 },
 "nbformat": 4,
 "nbformat_minor": 2
}
