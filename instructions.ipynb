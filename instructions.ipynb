{
 "cells": [
  {
   "cell_type": "markdown",
   "metadata": {},
   "source": [
    "## Installation instructions\n",
    "\n",
    "First install CPLEX:\n",
    "- Get free version\n",
    "\n",
    "Will have to add a bunch of packages:\n",
    "- PiecewiseLinearOpt\n",
    "- Ipopt\n",
    "- CPLEX\n",
    "- Pajarito\n",
    "\n",
    "Make sure to exit julia after CPLEX install so that the environment is updated"
   ]
  },
  {
   "cell_type": "code",
   "execution_count": null,
   "metadata": {},
   "outputs": [],
   "source": []
  }
 ],
 "metadata": {
  "kernelspec": {
   "display_name": "Julia 0.6.2",
   "language": "julia",
   "name": "julia-0.6"
  },
  "language_info": {
   "file_extension": ".jl",
   "mimetype": "application/julia",
   "name": "julia",
   "version": "0.6.2"
  }
 },
 "nbformat": 4,
 "nbformat_minor": 2
}
