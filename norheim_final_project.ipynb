{
 "cells": [
  {
   "cell_type": "markdown",
   "metadata": {},
   "source": [
    "# 15.083 Writeup "
   ]
  },
  {
   "cell_type": "markdown",
   "metadata": {},
   "source": [
    "## Introduction and overview of methods\n",
    "\n",
    "### Motivation\n",
    "Spacecraft design tends to be a laborious and manual procedure, where engineers iterate on evaluating the perfomance while having a consistent design, i.e satisfying so-called budgets (a.k.a. constraints).\n",
    "\n",
    "One interesting part of the problem is that although one could start from scratch to custom design all parts of a spacecraft(e.g. a satellite), companies generally try to save on development efforts by picking components from a database - either internal to the company, or from larger market availability. \n",
    "\n",
    "Building a spacecraft based on commercially-off-the-shelf components is especially attractive within the new paradigm of CubeSats: a standard for cubesat component sizing and interfaces - turning the spacecraft problem into picking the right \"LEGO\" bricks, and reducing the engineering part to simple assembly and integration(saving a lot on development time). \n",
    "\n",
    "Yet it still leaves the frustration of picking the right component to the engineer; normally the procedure will be quite manual and the engineer will iterate through both picking components, and making sure all constraints are satisfied. It can often be very much a whack-a-mole process, leading either to the engineers frustration, or indifference to looking for better solutions once the design converges on something that works - given the feel that any design changes will just be the same as starting from scratch and having to suffer through yet more frustrations.\n",
    "\n",
    "\n",
    "### The MINLP optimization approach\n",
    "Here we present the optimization approach; the components selection process translate easily into a Mixed Integer formulation. The challenge is that most of the physical sizing constraints are highly non-linear, and oftentimes non-linear in more than one variable. \n",
    "\n",
    "With further careful consideration, one can notice though, that many of the relationships are power laws: products of powers, or sum of products of powers. This is very promising, as this becomes a linear problem in log space, as long as any factors in front of the powers are positive. \n",
    "\n",
    "Unfortunately there are still sometimes models that cannot be captured by this reformulation. These are oftentimes univariate expressions, and therefore the approach we take is to use PiecewiseLinear in JuMP to model them.\n",
    "\n",
    "Finally, we might sometimes encounter disjoint constraints, where the choice is between two component with different physical models. This can also be introduced with a simple modelling technique.\n",
    "\n",
    "### The optimization problem\n",
    "\n",
    "It is fairly accepted that mass can be used as a proxy for cost when it comes to spacecraft. We also choose it over cost, as many times the cost models or cost(in terms of \\$) information is proprietary. Therefore we will use mass as the objective function in the optimization problem.\n",
    "\n",
    "Here we will focus on the optimization of an Earth-Observation satellite with a minimum resolution required, while minimizing the satellite's mass. We will also introduce a minimum lifetime constraint to ensure the missions lasts for a minimum amount of time.\n",
    "\n",
    "**Component selection MIP formulation**\n",
    "\n",
    "For the toy problem(which is much less a toy problem now, and getting closer to covering a lot of the real constraints) we will have a catalog for four type of components:\n",
    "\n",
    "1. Antenna (antenna diameter, maximum power, and mass) \n",
    "1. Battery (energy storage, mass)\n",
    "1. Payload (optical diameter, mass)\n",
    "1. Solar panel (solar panel efficiency, surface mass density)\n",
    "\n",
    "Obviously there are a lot of other satellites components that we can find in catalogs; this can easily be extended for the propulsion and magnetorquer models that are currently being optimized over a continuous domain. We keep it restricted for now just out of time constraints(and not because the framework is limitted).\n",
    "\n",
    "For the MIP formulation, we will create binary variables for each component in the catalog, and set a constraint that only one can be picked for each type of catalog.\n",
    "\n",
    "Next we introduce all the models in their natural form. We have included constraints from 7 different but highly interconnected domains:\n",
    "\n",
    "1. Orbits\n",
    "1. Power\n",
    "1. Payload performance \n",
    "1. Communication\n",
    "1. Satellite lifetime\n",
    "1. Momentum management\n",
    "1. Mass models"
   ]
  },
  {
   "cell_type": "markdown",
   "metadata": {},
   "source": [
    "## Models useds\n",
    "### 1. Orbits\n",
    "Given a certain altitude h, the semi-major axis is defined as $a = R_e + h$, where $R_e = 6.378km$ is the radius of the Earth. Then the period T is defined as:\n",
    "\n",
    "$T = 2\\pi\\sqrt{\\frac{a^3}{\\mu}}$\n",
    "\n",
    "$\\mu = 3.98\\cdot10^{14}m^3/s^2$\n",
    "\n",
    "The ground station communication time $g$ is given by the relationship:\n",
    "\n",
    "$g = \\frac{1}{\\pi}arccos\\left(\\frac{R_e}{R_e+h}\\right)$\n",
    "\n",
    "This can be derived from equation (5-24) in SMAD(see figure 5-13 for geometry):\n",
    "\n",
    "$\\lambda_0 = arccos\\left(\\frac{R_e}{R_e+h}\\right) $ \n",
    "\n",
    "This is half of the angle that is actually visible from the ground station. If we normalize by $2\\pi$ we get the fraction of the circle, since we assumed circular orbit:\n",
    "\n",
    "$g = \\frac{1}{2\\pi}2 arccos\\left(\\frac{R_e}{R_e+h}\\right)$\n",
    "\n",
    "The daylight fraction time is given by a similar expression:\n",
    "\n",
    "$d = \\frac{\\pi+2\\lambda}{2\\pi} = g + 0.5$"
   ]
  },
  {
   "cell_type": "markdown",
   "metadata": {},
   "source": [
    "### 2. Power"
   ]
  },
  {
   "cell_type": "markdown",
   "metadata": {},
   "source": [
    "Given a solar panel of efficiency $\\eta_s$, and area $A$, the solar panel charging power will be:\n",
    "\n",
    "$ P_t = d A \\eta_s Q $\n",
    "\n",
    "Where $Q=1367W/m^2$ is the solar constant, and $d$ is still the daylight fraction as already defined.\n",
    "\n",
    "Battery\n",
    "\n",
    "$ E_b = \\frac{1}{d} P_t \\cdot T $"
   ]
  },
  {
   "cell_type": "markdown",
   "metadata": {},
   "source": [
    "### 3. Payload\n",
    "The payload is assumed to be an Earth-imaging camera, and we assume that its resolution, which we have been given a requirement on, is diffraction limitted. This gives the following relationship:\n",
    "\n",
    "$ X_r = h \\frac{\\lambda}{D} $\n",
    "\n",
    "Where $h$ is the satellite's altitude, $\\lambda$ the imaging wavelength and $D$ the aperture of the camera.  "
   ]
  },
  {
   "cell_type": "markdown",
   "metadata": {},
   "source": [
    "### 4. Communications"
   ]
  },
  {
   "cell_type": "markdown",
   "metadata": {},
   "source": [
    "We will assume that every orbit we need to downlink all the data that has been gathered by the payload. Assuming the payload is always recording a strip underneath it with length $N\\cdot X_R$ where $X_R$ is the resolution of the payload. The total data $D$ recorded then is just the amount of pixels needed to represent a full sweep of the earth, i.e. $\\frac{2\\pi R_e}{X_R} $ time the width $N$, times the amount of bits per pixel $B$ :\n",
    "\n",
    "$D = \\frac{2\\pi R_e}{X_R}\\cdot B\\cdot N$\n",
    "\n",
    "All this data needs to be downloaded during a ground station pass, so the bit rate $b$ then becomes:\n",
    "\n",
    "$b = \\frac{D}{T} $"
   ]
  },
  {
   "cell_type": "markdown",
   "metadata": {},
   "source": [
    "#### Link budget\n",
    "This equation describes the signal to noise ratio of a communication link. Normally the SNR, here through the measure energy per bit over noise energy, needs to be above a given threshold in order to be decoded by the ground station.\n",
    "\n",
    "$ E_{b}/N_{o} = \\frac{P_{Tx} \\cdot G_{Rx}}{L_{other} \\cdot k \\cdot T_{sys} \\cdot  b}\\eta \\left( \\frac{D_{Tx}}{4r} \\right)^2$\n",
    "\n",
    "Since $b$ has been previously defined we can easily replace it's expression into this equation. This has been done for the optimization formulation.\n",
    "\n",
    "Where $r = \\sqrt{h^2 + 2R_eh}$ is the distance from the satellite to the furthest visible point on the surface of the Earth."
   ]
  },
  {
   "cell_type": "markdown",
   "metadata": {},
   "source": [
    "### 5. Lifetime of the satellite"
   ]
  },
  {
   "cell_type": "markdown",
   "metadata": {},
   "source": [
    "Total lifetime $L_t$ is the sum of two parts, the natural decay time due to drag $L_n$, and the time we can keep the satellite from decaying by countering the drag with propulsion, $L_p$.\n",
    "\n",
    "$ L_n = \\frac{H \\cdot m_t}{2\\pi \\cdot C_D \\cdot A \\cdot \\rho \\cdot a^2} $ Eq. (6-28) from SMAD \n",
    "\n",
    "Where $H(h)$ and $\\rho(h)$ are given by tables at the end of SMAD, which have been digitized and rendrered here:"
   ]
  },
  {
   "cell_type": "code",
   "execution_count": 23,
   "metadata": {},
   "outputs": [
    {
     "data": {
      "image/png": "[encoded data removed]",
      "text/plain": [
       "<Figure size 720x720 with 2 Axes>"
      ]
     },
     "metadata": {
      "needs_background": "light"
     },
     "output_type": "display_data"
    }
   ],
   "source": [
    "import pandas as pd\n",
    "import numpy as np\n",
    "import matplotlib.pyplot as plt\n",
    "plt.rcParams.update({'font.size': 20})\n",
    "dragtable = pd.read_excel(\"SMAD_tables.xlsx\", sheet_name=\"Drag\")\n",
    "H = dragtable[\"Scale Height\"][2:].values\n",
    "h = dragtable[\"Altitude [m]\"].values[2:].astype(float)\n",
    "rho = dragtable[\"Unnamed: 3\"].values[2:].astype(float)\n",
    "f, (ax1, ax2) = plt.subplots(2,1, figsize=(10,10))\n",
    "ax1.plot(h, H, '.')\n",
    "ax1.set_xlabel(\"h (km)\")\n",
    "ax1.set_ylabel(\"H(h) (km)\")\n",
    "ax2.semilogy(h, rho, '.')\n",
    "ax2.set_xlabel(\"h (km)\")\n",
    "ax2.set_ylabel(r'$\\rho(h)$ (kg/m3)')\n",
    "plt.savefig('NLRMSISE00.eps')\n",
    "plt.show()"
   ]
  },
  {
   "cell_type": "markdown",
   "metadata": {},
   "source": [
    "I believe that the atmospheric models are based on the NRLMSISE-00 standard by NOAA."
   ]
  },
  {
   "cell_type": "markdown",
   "metadata": {},
   "source": [
    "For the propulsion lifetime, it is the total momentum available from propulsion, $l=m_P \\cdot I_{sp} \\cdot G$ divided by the drag force:\n",
    "\n",
    "$F_D = 0.5 \\rho \\cdot C_D \\cdot A \\cdot v^2 = 0.5 \\rho \\cdot C_D \\cdot A \\cdot \\frac{\\mu}{a}$\n",
    "\n",
    "\n",
    "$L_p = \\frac{l}{F_D} = \\frac{m_P \\cdot I_{sp}\\cdot G \\cdot a}{0.5 C_D \\cdot A_D \\cdot \\rho \\cdot \\mu} $ \n",
    "\n",
    "Turns out we actually need to add a constant to make $L_p$ realistic:\n",
    "\n",
    "$L_p = \\kappa \\frac{m_P \\cdot I_{sp}\\cdot G \\cdot a}{0.5 C_D \\cdot A_D \\cdot \\rho \\cdot \\mu} $ where $\\kappa$ is a constant"
   ]
  },
  {
   "cell_type": "code",
   "execution_count": 31,
   "metadata": {},
   "outputs": [
    {
     "name": "stderr",
     "output_type": "stream",
     "text": [
      "The PostScript backend does not support transparency; partially transparent artists will be rendered opaque.\n",
      "The PostScript backend does not support transparency; partially transparent artists will be rendered opaque.\n"
     ]
    },
    {
     "data": {
      "image/png": "[encoded data removed]",
      "text/plain": [
       "<Figure size 540x360 with 1 Axes>"
      ]
     },
     "metadata": {
      "needs_background": "light"
     },
     "output_type": "display_data"
    }
   ],
   "source": [
    "m = 7.240\n",
    "CD = 2.2\n",
    "A = 0.05261451671609104\n",
    "R = 6378e3\n",
    "bc1 = m/(CD*A)\n",
    "ai = R+h*1000\n",
    "year = 3600*24*365\n",
    "mu = 3.98e14\n",
    "Isp = 536\n",
    "g = 9.81\n",
    "ar = 2*np.pi*rho*ai**2/bc1\n",
    "Ln = H*1e3*m/(2*np.pi*rho*ai**2*CD*A)/(3600*24*365) \n",
    "Lp = lambda mp: mp*Isp*g*ai/(0.5*CD*A*rho*mu)/year\n",
    "ub = 800\n",
    "#plt.rc('text', usetex=True)\n",
    "plt.figure(figsize=(7.5,5))\n",
    "plt.plot(h, Ln, '--o',\n",
    "         h, 1e-5*Lp(4.3), '--o', \n",
    "         h, 2e-5*Lp(4.3), '--o')\n",
    "plt.legend([r\"$L_n$\", \"$L_p, \\kappa=1\\cdot10^{-5}$\", \"$L_p, \\kappa=2\\cdot10^{-5}$\"])\n",
    "plt.xlabel(\"h (km)\")\n",
    "plt.ylabel(\"liftime (years)\")\n",
    "plt.savefig('lifetime_P.eps')\n",
    "plt.show()"
   ]
  },
  {
   "cell_type": "markdown",
   "metadata": {},
   "source": [
    "The constraint is to satisfy a minimum lifetime $L_{min}$:\n",
    "\n",
    "$L_n + L_p \\leq L_{min}$ "
   ]
  },
  {
   "cell_type": "markdown",
   "metadata": {},
   "source": [
    "### 6. Momentum budget and disjoin constraints"
   ]
  },
  {
   "cell_type": "markdown",
   "metadata": {},
   "source": [
    "One of the constraints spacecraft have to manage is accumulated torque due to disturbance forces acting on the spacecraft. Although there are several (solar radiation pressue, aerodynamic...) here we focus on one specific type: gravity gradient. The expression for gravity gradient is given in table 11-9A in SMAD:\n",
    "\n",
    "$ T_g = \\frac{3\\mu}{a^3}c$\n",
    "\n",
    "Where $c = |I_z-I_y|sin(2\\theta)$. We choose to just set this as a constant instead of going deeper into the modelling of where $c$ comes from.\n",
    "\n",
    "The gravity gradient can build up over time, and we investigate two ways to manage it:\n",
    "\n",
    "1. Magnetorquers: they create a dipole moment in the spacrcraft that generates a torque on the satellite in the presence of Earth's magnetic field\n",
    "2. Propulsions: small burns with attitude reaction thrusters; this requires propellant mass\n",
    "\n",
    "Both can be tied town to the mass of their system, and the optimizer should choose the lightest one. Below are the models used:\n",
    "\n",
    "For the thrusters, the amount of momentum that the system will have to dissipate is given by $h_p$(the letter h is also often associated with momentum, not to be confused with satellite altitude). This is modelled through the equations given in Table 11-13:\n",
    "\n",
    "$h_p = T \\cdot T_g \\frac{1}/{4}\\frac{sqrt(2)}{2}\\cdot 3 \\cdot 365\\cdot L_{min} $\n",
    "\n",
    "For the magnetorquers, we have applied a model that is not correct from the literature, but that makes the choice between thrusters and magnetorquer interesting. The assumption is that the magnetorquer can counter the torque(through the dipole moment it creates); so:\n",
    "\n",
    "$T_m = T_g$ \n",
    "\n",
    "Both key metrics from the systems: $h_p$ and $T_g$ will then be used in the mass models.\n"
   ]
  },
  {
   "cell_type": "markdown",
   "metadata": {},
   "source": [
    "### 7. Mass models\n",
    "\n",
    "Mass models for any system that's not in the component catalog uses a simple linear relationship that was tuned to generate meaningful masses, i.e.:\n",
    "\n",
    "$ m_i = \\rho_i \\cdot f_i $ \n",
    "\n",
    "Where $m_i$ is the mass of certain component not in the catalog(except for the solar panel), $\\rho_i$ is the density, and $f_i$ is the performance. $f_i$ for momentum management is both $h_p$ and $T_g$. $f_i$ for the surface is the area, and this time the constant $\\rho_i$ is given by the component selection in the catalog. \n",
    "\n",
    "Finally, we have included the structural mass as a percentage of the total system(20% in this case)."
   ]
  },
  {
   "cell_type": "markdown",
   "metadata": {},
   "source": [
    "## Some notes on reformulation\n",
    "Most constraints in the modelling are equality constraints; they can however be turned into inequality constraints if one know on which side of the equality the pressure lies. This is what effectively allows sums of powers to be put in logspace through inequalities. Sometimes, however there is no such pressure, and it was realized later that the expression\n",
    "\n",
    "$a = h + R$, which was reformulated as $h + R \\leq a$:\n",
    "\n",
    "1. $e^{R - a} \\leq exp_{Ra}$\n",
    "1. $e^{h - a} \\leq exp_{ha}$\n",
    "1. $exp_{Ra} + exp_{ha} \\leq 1$\n",
    "\n",
    "Where $R$, $h$, and $a$ are in logspace. This assumes a certain pressure on $a$ which turned out not to be true, due to it's relationship with the orbit period $T$ and the comms link budget, where $T$ ideally wants to be larger to satisfy the link budget constraint. Therefore, this constraint had to be encoded through the Piecewiselinear formulation."
   ]
  },
  {
   "cell_type": "markdown",
   "metadata": {},
   "source": [
    "## Catalog components\n",
    "A mini-catalog was generated with two options for each component except the battery which has 5. This leads to 2x2x2x5 = 30 possible combinations; which is manageable; but not scalable when including perhaps 100s of components. The components where found from an online database of spacecraft components [satsearch.co](https://satsearch.co), and some of the values were tweaked to play around with the problem. \n",
    "\n",
    "For simplicity of the writeup consult data.jl to see the catlog components."
   ]
  },
  {
   "cell_type": "markdown",
   "metadata": {},
   "source": [
    "## Results"
   ]
  },
  {
   "cell_type": "markdown",
   "metadata": {},
   "source": [
    "Since this is a python notebook (the project was originally started in python, when using GpKit, so some legacy code like extracting the excel tables, was kept in python), we will just display some of the results from the code, and show that the results are non trivial."
   ]
  },
  {
   "cell_type": "markdown",
   "metadata": {},
   "source": [
    "As we change the resultion requirement and lifetime we get very different designs. Here we show the results from two runs:\n",
    "\n",
    "1. 15m resolution 5 years\n",
    "2. 5m resolution 3 years"
   ]
  },
  {
   "cell_type": "markdown",
   "metadata": {},
   "source": [
    "### 1. 15m resolution, 5 years\n",
    "![results1.PNG](https://www.dropbox.com/s/1260hniqdfjy3bh/results1.PNG?raw=1)"
   ]
  },
  {
   "cell_type": "markdown",
   "metadata": {},
   "source": [
    "Payload 1 is chosen(lower aperture than payload 2, but much lighter), and the orbit is brough to 1200km. This is the altitude that satisifies the resolution constraint given the camera aperture. Choosing this altitude comes at some significant propellant mass penalty, but seems to outweight the choice of having a heavier payload with better performance. \n",
    "\n",
    "The optimal mass comes to ~5.24kg."
   ]
  },
  {
   "cell_type": "markdown",
   "metadata": {},
   "source": [
    "### 2. 10m resolution, 3 years\n",
    "![results2.PNG](https://www.dropbox.com/s/umcno6gn2a0tbkq/results2.PNG?raw=1)"
   ]
  },
  {
   "cell_type": "markdown",
   "metadata": {},
   "source": [
    "This time Payload 2 is chosen(larger aperture than payload 1, but much heavier), to meet the higher perfomance metrics required by the resolution. This also allows the orbit to be higher (1500km), giving us a longer lifetime and at less propellant cost.\n",
    "\n",
    "The optimal mass comes to ~4.40kg, which is lighter than the first option."
   ]
  },
  {
   "cell_type": "markdown",
   "metadata": {},
   "source": [
    "## Conclusion\n",
    "It took less than a minute (53s from executing the command to results), of which 21s where spent by the backend solver(there is a significant overhead to compile the problem, unfortunately). \n",
    "\n",
    "This gives us the opportunity to quickly compare two different options in a couple of minutes, versus the several weeks it might take to do it manually. \n",
    "\n",
    "### Limitations and future considerations\n",
    "\n",
    "* The solver seems to sometime run into errors for no known reasons. \n",
    "* Further investigation should be given to how the solving time increases with the amount of catalog components\n",
    "* Make the magnetorquer and propulsion system integer variables(choices) from a catalog."
   ]
  }
 ],
 "metadata": {
  "kernelspec": {
   "display_name": "mdo",
   "language": "python",
   "name": "mdo"
  },
  "language_info": {
   "codemirror_mode": {
    "name": "ipython",
    "version": 3
   },
   "file_extension": ".py",
   "mimetype": "text/x-python",
   "name": "python",
   "nbconvert_exporter": "python",
   "pygments_lexer": "ipython3",
   "version": "3.6.7"
  }
 },
 "nbformat": 4,
 "nbformat_minor": 4
}
