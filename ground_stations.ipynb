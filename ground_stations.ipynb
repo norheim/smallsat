{
 "cells": [
  {
   "cell_type": "markdown",
   "metadata": {},
   "source": [
    "When the following expression is positive, the ground station is in view:\n",
    "$$ r(sin(\\phi)cos(2\\pi t)cos(i)cos(2\\pi \\omega t)+sin(\\phi)sin(2\\pi t)sin(2\\pi \\omega t)-cos(\\phi)sin(i)cos(\\omega t))-1$$\n",
    "\n",
    "Where t is in units of days, $$r=1+h/R$$ and h is the altitude and R the radius of the Earth, and $$\\omega=\\frac{T2}{T1}$$ where $T2 = 86400$ (seconds in a day), and $$T1 =2\\pi\\sqrt{\\frac{(h+R)^2}{\\mu}}$$ "
   ]
  },
  {
   "cell_type": "markdown",
   "metadata": {},
   "source": [
    "Verified in Geogebra: ![ground station](ground_station.PNG)"
   ]
  },
  {
   "cell_type": "code",
   "execution_count": null,
   "metadata": {},
   "outputs": [],
   "source": []
  }
 ],
 "metadata": {
  "kernelspec": {
   "display_name": "Python 2",
   "language": "python",
   "name": "python2"
  },
  "language_info": {
   "codemirror_mode": {
    "name": "ipython",
    "version": 2
   },
   "file_extension": ".py",
   "mimetype": "text/x-python",
   "name": "python",
   "nbconvert_exporter": "python",
   "pygments_lexer": "ipython2",
   "version": "2.7.15rc1"
  }
 },
 "nbformat": 4,
 "nbformat_minor": 2
}
